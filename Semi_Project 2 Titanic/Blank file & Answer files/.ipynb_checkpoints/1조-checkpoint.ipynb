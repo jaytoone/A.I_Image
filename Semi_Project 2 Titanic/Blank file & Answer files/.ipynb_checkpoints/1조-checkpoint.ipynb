{
 "cells": [
  {
   "cell_type": "code",
   "execution_count": 91,
   "metadata": {
    "collapsed": true
   },
   "outputs": [
    {
     "name": "stdout",
     "output_type": "stream",
     "text": [
      "Requirement already satisfied: mglearn in c:\\users\\student\\anaconda3\\lib\\site-packages (0.1.7)\n",
      "Requirement already satisfied: pillow in c:\\users\\student\\anaconda3\\lib\\site-packages (from mglearn) (5.4.1)\n",
      "Requirement already satisfied: imageio in c:\\users\\student\\anaconda3\\lib\\site-packages (from mglearn) (2.5.0)\n",
      "Requirement already satisfied: scikit-learn in c:\\users\\student\\anaconda3\\lib\\site-packages (from mglearn) (0.20.3)\n",
      "Requirement already satisfied: numpy in c:\\users\\student\\anaconda3\\lib\\site-packages (from mglearn) (1.16.2)\n",
      "Requirement already satisfied: cycler in c:\\users\\student\\anaconda3\\lib\\site-packages (from mglearn) (0.10.0)\n",
      "Requirement already satisfied: pandas in c:\\users\\student\\anaconda3\\lib\\site-packages (from mglearn) (0.24.2)\n",
      "Requirement already satisfied: matplotlib in c:\\users\\student\\anaconda3\\lib\\site-packages (from mglearn) (3.0.3)\n",
      "Requirement already satisfied: scipy>=0.13.3 in c:\\users\\student\\anaconda3\\lib\\site-packages (from scikit-learn->mglearn) (1.2.1)\n",
      "Requirement already satisfied: six in c:\\users\\student\\anaconda3\\lib\\site-packages (from cycler->mglearn) (1.12.0)\n",
      "Requirement already satisfied: pytz>=2011k in c:\\users\\student\\anaconda3\\lib\\site-packages (from pandas->mglearn) (2018.9)\n",
      "Requirement already satisfied: python-dateutil>=2.5.0 in c:\\users\\student\\anaconda3\\lib\\site-packages (from pandas->mglearn) (2.8.0)\n",
      "Requirement already satisfied: kiwisolver>=1.0.1 in c:\\users\\student\\anaconda3\\lib\\site-packages (from matplotlib->mglearn) (1.0.1)\n",
      "Requirement already satisfied: pyparsing!=2.0.4,!=2.1.2,!=2.1.6,>=2.0.1 in c:\\users\\student\\anaconda3\\lib\\site-packages (from matplotlib->mglearn) (2.3.1)\n",
      "Requirement already satisfied: setuptools in c:\\users\\student\\anaconda3\\lib\\site-packages (from kiwisolver>=1.0.1->matplotlib->mglearn) (40.8.0)\n"
     ]
    }
   ],
   "source": [
    "!pip install mglearn"
   ]
  },
  {
   "cell_type": "code",
   "execution_count": 92,
   "metadata": {},
   "outputs": [],
   "source": [
    "import mglearn\n",
    "import numpy as np\n",
    "import pandas as pd\n",
    "import matplotlib.pyplot as plt\n",
    "from mpl_toolkits.mplot3d import Axes3D\n",
    "import warnings\n",
    "warnings.filterwarnings(\"ignore\")\n",
    "\n",
    "from sklearn.preprocessing import StandardScaler\n",
    "from sklearn.model_selection import train_test_split\n",
    "from sklearn.svm import LinearSVC\n",
    "from sklearn.svm import SVC\n",
    "from sklearn import cluster\n",
    "from sklearn import metrics\n",
    "from sklearn import ensemble"
   ]
  },
  {
   "cell_type": "code",
   "execution_count": 108,
   "metadata": {},
   "outputs": [
    {
     "name": "stdout",
     "output_type": "stream",
     "text": [
      "       PassengerId      Pclass         Age       SibSp       Parch        Fare\n",
      "count   891.000000  891.000000  714.000000  891.000000  891.000000  891.000000\n",
      "mean    446.000000    2.308642   29.699118    0.523008    0.381594   32.204208\n",
      "std     257.353842    0.836071   14.526497    1.102743    0.806057   49.693429\n",
      "min       1.000000    1.000000    0.420000    0.000000    0.000000    0.000000\n",
      "25%     223.500000    2.000000   20.125000    0.000000    0.000000    7.910400\n",
      "50%     446.000000    3.000000   28.000000    0.000000    0.000000   14.454200\n",
      "75%     668.500000    3.000000   38.000000    1.000000    0.000000   31.000000\n",
      "max     891.000000    3.000000   80.000000    8.000000    6.000000  512.329200\n"
     ]
    }
   ],
   "source": [
    "data_df = pd.read_csv('titanic.csv')\n",
    "y_data = data_df[['Survived']]\n",
    "del data_df['Survived']\n",
    "x_data = data_df.copy()\n",
    "print(x_data.describe())"
   ]
  },
  {
   "cell_type": "markdown",
   "metadata": {},
   "source": [
    "## 데이터 전처리 과정"
   ]
  },
  {
   "cell_type": "code",
   "execution_count": 94,
   "metadata": {},
   "outputs": [
    {
     "name": "stdout",
     "output_type": "stream",
     "text": [
      "['s', 't', 'r']\n"
     ]
    }
   ],
   "source": [
    "print(list('str'))"
   ]
  },
  {
   "cell_type": "code",
   "execution_count": 95,
   "metadata": {},
   "outputs": [
    {
     "name": "stdout",
     "output_type": "stream",
     "text": [
      "            0         1         2         3         4         5         6  \\\n",
      "0    0.848448 -0.725921 -0.002434 -0.457246 -0.472998 -0.373297 -0.521639   \n",
      "1    0.848448 -0.725921 -0.002434 -0.457246 -0.472998 -0.516566 -0.521639   \n",
      "2    0.848448 -0.725921 -1.518648  2.985222  0.729768 -0.069128 -0.521639   \n",
      "3   -1.532556  1.377561 -0.002434  0.403371 -0.472998  2.365514  1.367785   \n",
      "4    0.848448  1.377561 -0.002434 -0.457246  1.932533 -0.356965 -0.521639   \n",
      "5   -1.532556 -0.725921 -0.002434 -0.457246 -0.472998 -0.040612  1.367785   \n",
      "6   -1.532556  1.377561 -0.002434 -0.457246 -0.472998  2.509476  1.367785   \n",
      "7   -1.532556  1.377561 -0.002434 -0.457246  1.932533  2.745985  1.367785   \n",
      "8   -1.532556 -0.725921 -0.002434  0.403371 -0.472998  1.215725  1.367785   \n",
      "9    0.848448  1.377561 -0.002434 -0.457246 -0.472998 -0.523219 -0.521639   \n",
      "10   0.848448 -0.725921 -0.002434  0.403371 -0.472998 -0.510258 -0.521639   \n",
      "11  -0.342054  1.377561 -0.002434 -0.457246 -0.472998 -0.403540 -0.521639   \n",
      "12   0.848448 -0.725921 -0.002434 -0.457246 -0.472998 -0.512419 -0.521639   \n",
      "13  -0.342054  1.377561 -1.518648 -0.457246  1.932533 -0.128752 -0.521639   \n",
      "14  -1.532556  1.377561 -0.002434 -0.457246 -0.472998  1.051455  1.367785   \n",
      "15   0.848448  1.377561 -1.518648 -0.457246 -0.472998 -0.510258 -0.521639   \n",
      "16   0.848448 -0.725921 -0.002434 -0.457246 -0.472998 -0.481829 -0.521639   \n",
      "17  -0.342054 -0.725921 -1.518648  0.403371  0.729768  0.089005 -0.521639   \n",
      "18   0.848448 -0.725921 -0.002434 -0.457246 -0.472998 -0.506197 -0.521639   \n",
      "19   0.848448 -0.725921 -1.518648 -0.457246  0.729768 -0.496518 -0.521639   \n",
      "20  -0.342054 -0.725921 -1.518648 -0.457246 -0.472998 -0.434648 -0.521639   \n",
      "21  -1.532556  1.377561 -0.002434 -0.457246 -0.472998  2.469814 -0.521639   \n",
      "22   0.848448 -0.725921 -0.002434 -0.457246 -0.472998 -0.512678 -0.521639   \n",
      "23  -1.532556 -0.725921 -0.002434 -0.457246 -0.472998 -0.030243 -0.521639   \n",
      "24   0.848448  1.377561 -0.002434 -0.457246 -0.472998 -0.469127 -0.521639   \n",
      "25  -1.532556  1.377561 -0.002434  0.403371  0.729768  2.116218  1.367785   \n",
      "26   0.848448 -0.725921 -0.002434 -0.457246 -0.472998 -0.509395 -0.521639   \n",
      "27   0.848448  1.377561 -0.002434 -0.457246 -0.472998 -0.512419 -0.521639   \n",
      "28  -0.342054  1.377561 -0.002434 -0.457246  0.729768 -0.133937 -0.521639   \n",
      "29   0.848448  1.377561 -1.518648  2.124605  1.932533 -0.094533 -0.521639   \n",
      "..        ...       ...       ...       ...       ...       ...       ...   \n",
      "238 -0.342054  1.377561  1.513781 -0.457246  0.729768 -0.268738 -0.521639   \n",
      "239  0.848448 -0.725921 -0.002434 -0.457246 -0.472998 -0.521492 -0.521639   \n",
      "240  0.848448 -0.725921 -0.002434 -0.457246 -0.472998 -0.523219 -0.521639   \n",
      "241 -1.532556  1.377561  1.513781  0.403371  0.729768  1.265929  1.367785   \n",
      "242  0.848448 -0.725921 -0.002434 -0.457246 -0.472998 -0.508789 -0.521639   \n",
      "243 -0.342054 -0.725921 -0.002434 -0.457246 -0.472998 -0.133937 -0.521639   \n",
      "244 -1.532556  1.377561 -1.518648 -0.457246  1.932533  0.978697  1.367785   \n",
      "245  0.848448 -0.725921 -0.002434  0.403371  0.729768 -0.356965 -0.521639   \n",
      "246  0.848448  1.377561 -0.002434 -0.457246 -0.472998 -0.504382 -0.521639   \n",
      "247  0.848448 -0.725921 -0.002434 -0.457246 -0.472998 -0.509395 -0.521639   \n",
      "248  0.848448 -0.725921 -0.002434 -0.457246 -0.472998 -0.506197 -0.521639   \n",
      "249  0.848448  1.377561 -0.002434 -0.457246  0.729768 -0.414428  1.367785   \n",
      "250  0.848448 -0.725921 -0.002434 -0.457246 -0.472998 -0.509395 -0.521639   \n",
      "251  0.848448 -0.725921 -1.518648  1.263988 -0.472998 -0.299847 -0.521639   \n",
      "252 -1.532556 -0.725921  1.513781  0.403371  0.729768  1.626437  1.367785   \n",
      "253 -0.342054 -0.725921 -0.002434 -0.457246 -0.472998 -0.673144 -0.521639   \n",
      "254  0.848448  1.377561 -1.518648  3.845840  1.932533  0.299503 -0.521639   \n",
      "255  0.848448  1.377561 -1.518648  0.403371 -0.472998 -0.303994 -0.521639   \n",
      "256  0.848448  1.377561 -0.002434 -0.457246 -0.472998 -0.512419 -0.521639   \n",
      "257  0.848448 -0.725921  1.513781 -0.457246 -0.472998 -0.506197 -0.521639   \n",
      "258  0.848448 -0.725921 -1.518648  2.985222  1.932533 -0.022206 -0.521639   \n",
      "259  0.848448 -0.725921  3.029995 -0.457246 -0.472998 -0.512419 -0.521639   \n",
      "260  0.848448 -0.725921 -0.002434 -0.457246 -0.472998 -0.509395 -0.521639   \n",
      "261  0.848448 -0.725921 -0.002434  1.263988 -0.472998 -0.223545 -0.521639   \n",
      "262  0.848448 -0.725921 -0.002434 -0.457246 -0.472998 -0.539638 -0.521639   \n",
      "263 -1.532556 -0.725921 -0.002434 -0.457246 -0.472998 -0.673144  1.367785   \n",
      "264  0.848448 -0.725921 -0.002434 -0.457246 -0.472998 -0.351693 -0.521639   \n",
      "265  0.848448 -0.725921 -0.002434  0.403371 -0.472998 -0.373382 -0.521639   \n",
      "266  0.848448  1.377561 -1.518648 -0.457246 -0.472998 -0.517690 -0.521639   \n",
      "267 -1.532556 -0.725921 -0.002434 -0.457246 -0.472998 -0.098249 -0.521639   \n",
      "\n",
      "            7         8  \n",
      "0    1.012461 -0.698985  \n",
      "1   -0.552708 -0.698985  \n",
      "2    2.577629  2.178553  \n",
      "3    1.012461  1.219374  \n",
      "4    1.012461  1.219374  \n",
      "5   -0.552708 -0.698985  \n",
      "6   -0.552708  0.260195  \n",
      "7   -0.552708  0.260195  \n",
      "8    1.012461 -0.698985  \n",
      "9    1.012461  1.219374  \n",
      "10  -0.552708 -0.698985  \n",
      "11  -0.552708  0.260195  \n",
      "12   2.577629 -0.698985  \n",
      "13  -0.552708  0.260195  \n",
      "14   1.012461  0.260195  \n",
      "15  -0.552708  0.260195  \n",
      "16  -0.552708 -0.698985  \n",
      "17  -0.552708 -0.698985  \n",
      "18  -0.552708 -0.698985  \n",
      "19   1.012461  2.178553  \n",
      "20  -0.552708 -0.698985  \n",
      "21  -0.552708  0.260195  \n",
      "22   2.577629 -0.698985  \n",
      "23  -0.552708 -0.698985  \n",
      "24  -0.552708  0.260195  \n",
      "25   1.012461  1.219374  \n",
      "26  -0.552708 -0.698985  \n",
      "27  -0.552708  0.260195  \n",
      "28  -0.552708  1.219374  \n",
      "29  -0.552708  0.260195  \n",
      "..        ...       ...  \n",
      "238 -0.552708  1.219374  \n",
      "239 -0.552708 -0.698985  \n",
      "240  1.012461 -0.698985  \n",
      "241 -0.552708  1.219374  \n",
      "242 -0.552708 -0.698985  \n",
      "243 -0.552708 -0.698985  \n",
      "244 -0.552708  0.260195  \n",
      "245  1.012461  2.178553  \n",
      "246  2.577629  0.260195  \n",
      "247 -0.552708 -0.698985  \n",
      "248 -0.552708 -0.698985  \n",
      "249 -0.552708  1.219374  \n",
      "250 -0.552708 -0.698985  \n",
      "251 -0.552708 -0.698985  \n",
      "252  1.012461 -0.698985  \n",
      "253 -0.552708 -0.698985  \n",
      "254 -0.552708  0.260195  \n",
      "255 -0.552708  1.219374  \n",
      "256  2.577629  0.260195  \n",
      "257 -0.552708 -0.698985  \n",
      "258 -0.552708  2.178553  \n",
      "259  2.577629 -0.698985  \n",
      "260 -0.552708 -0.698985  \n",
      "261  1.012461 -0.698985  \n",
      "262  1.012461 -0.698985  \n",
      "263 -0.552708 -0.698985  \n",
      "264  2.577629 -0.698985  \n",
      "265  1.012461 -0.698985  \n",
      "266 -0.552708  0.260195  \n",
      "267  1.012461 -0.698985  \n",
      "\n",
      "[268 rows x 9 columns]\n"
     ]
    },
    {
     "data": {
      "text/html": [
       "<div>\n",
       "<style scoped>\n",
       "    .dataframe tbody tr th:only-of-type {\n",
       "        vertical-align: middle;\n",
       "    }\n",
       "\n",
       "    .dataframe tbody tr th {\n",
       "        vertical-align: top;\n",
       "    }\n",
       "\n",
       "    .dataframe thead th {\n",
       "        text-align: right;\n",
       "    }\n",
       "</style>\n",
       "<table border=\"1\" class=\"dataframe\">\n",
       "  <thead>\n",
       "    <tr style=\"text-align: right;\">\n",
       "      <th></th>\n",
       "      <th>0</th>\n",
       "      <th>1</th>\n",
       "      <th>2</th>\n",
       "      <th>3</th>\n",
       "      <th>4</th>\n",
       "      <th>5</th>\n",
       "      <th>6</th>\n",
       "      <th>7</th>\n",
       "      <th>8</th>\n",
       "    </tr>\n",
       "  </thead>\n",
       "  <tbody>\n",
       "    <tr>\n",
       "      <th>0</th>\n",
       "      <td>-1.532556</td>\n",
       "      <td>-0.725921</td>\n",
       "      <td>1.513781</td>\n",
       "      <td>-0.457246</td>\n",
       "      <td>-0.472998</td>\n",
       "      <td>-0.122530</td>\n",
       "      <td>1.367785</td>\n",
       "      <td>-0.552708</td>\n",
       "      <td>-0.698985</td>\n",
       "    </tr>\n",
       "    <tr>\n",
       "      <th>1</th>\n",
       "      <td>-1.532556</td>\n",
       "      <td>1.377561</td>\n",
       "      <td>1.513781</td>\n",
       "      <td>0.403371</td>\n",
       "      <td>-0.472998</td>\n",
       "      <td>0.918124</td>\n",
       "      <td>1.367785</td>\n",
       "      <td>1.012461</td>\n",
       "      <td>1.219374</td>\n",
       "    </tr>\n",
       "    <tr>\n",
       "      <th>2</th>\n",
       "      <td>0.848448</td>\n",
       "      <td>-0.725921</td>\n",
       "      <td>-1.518648</td>\n",
       "      <td>3.845840</td>\n",
       "      <td>1.932533</td>\n",
       "      <td>0.299503</td>\n",
       "      <td>-0.521639</td>\n",
       "      <td>-0.552708</td>\n",
       "      <td>2.178553</td>\n",
       "    </tr>\n",
       "    <tr>\n",
       "      <th>3</th>\n",
       "      <td>-1.532556</td>\n",
       "      <td>-0.725921</td>\n",
       "      <td>1.513781</td>\n",
       "      <td>-0.457246</td>\n",
       "      <td>0.729768</td>\n",
       "      <td>0.929702</td>\n",
       "      <td>1.367785</td>\n",
       "      <td>-0.552708</td>\n",
       "      <td>-0.698985</td>\n",
       "    </tr>\n",
       "    <tr>\n",
       "      <th>4</th>\n",
       "      <td>0.848448</td>\n",
       "      <td>1.377561</td>\n",
       "      <td>-0.002434</td>\n",
       "      <td>0.403371</td>\n",
       "      <td>-0.472998</td>\n",
       "      <td>-0.373297</td>\n",
       "      <td>-0.521639</td>\n",
       "      <td>1.012461</td>\n",
       "      <td>1.219374</td>\n",
       "    </tr>\n",
       "  </tbody>\n",
       "</table>\n",
       "</div>"
      ],
      "text/plain": [
       "          0         1         2         3         4         5         6  \\\n",
       "0 -1.532556 -0.725921  1.513781 -0.457246 -0.472998 -0.122530  1.367785   \n",
       "1 -1.532556  1.377561  1.513781  0.403371 -0.472998  0.918124  1.367785   \n",
       "2  0.848448 -0.725921 -1.518648  3.845840  1.932533  0.299503 -0.521639   \n",
       "3 -1.532556 -0.725921  1.513781 -0.457246  0.729768  0.929702  1.367785   \n",
       "4  0.848448  1.377561 -0.002434  0.403371 -0.472998 -0.373297 -0.521639   \n",
       "\n",
       "          7         8  \n",
       "0 -0.552708 -0.698985  \n",
       "1  1.012461  1.219374  \n",
       "2 -0.552708  2.178553  \n",
       "3 -0.552708 -0.698985  \n",
       "4  1.012461  1.219374  "
      ]
     },
     "execution_count": 95,
     "metadata": {},
     "output_type": "execute_result"
    }
   ],
   "source": [
    "# 성별 분류 하기\n",
    "sex_mapping = {\"male\": 0, \"female\":1}\n",
    "x_data['Sex'] = x_data['Sex'].map(sex_mapping)\n",
    "\n",
    "# Age 결측값 채우기 > Age의 평균으로 값 넣기\n",
    "mean_age = x_data['Age'].median(skipna=True)\n",
    "x_data['Age'] = x_data['Age'].fillna(mean_age) # or .fillna(int/float/str 값)\n",
    "\n",
    "# Age 나이대별로 그룹화해서 전처리.\n",
    "x_data.loc[ x_data['Age'] <=20, 'Age']=0,\n",
    "x_data.loc[(x_data['Age'] > 20) & (x_data['Age'] <=40), 'Age'] = 1,\n",
    "x_data.loc[(x_data['Age'] > 40) & (x_data['Age'] <=60), 'Age'] = 2,\n",
    "x_data.loc[(x_data['Age'] > 60), 'Age'] = 3\n",
    "\n",
    "# 행선지 전처리\n",
    "embarked_mapping = {\"S\" : 0, \"C\" : 1, \"Q\" : 2}\n",
    "x_data['Embarked'] = x_data['Embarked'].map(embarked_mapping)\n",
    "x_data['Embarked'] = x_data['Embarked'].fillna(0)\n",
    "\n",
    "# Cabin 데이터 정형화 하기.\n",
    "x_data['Cabin'] = x_data['Cabin'].fillna(0)\n",
    "for i in range(len(x_data)):\n",
    "    # Cabin 데이터 전처리 방수별로 숫자 카운팅\n",
    "    count = 0\n",
    "    if type(x_data.loc[i, ['Cabin']][0]) == type('str') :\n",
    "        for j in list(x_data.loc[i, ['Cabin']][0]) :\n",
    "            try :\n",
    "                int(j)\n",
    "            except:\n",
    "                count = count + 1\n",
    "                if j == ' ' :\n",
    "                    count = count - 1\n",
    "        x_data.loc[i, ['Cabin']] = count\n",
    "        \n",
    "        \n",
    "# 이름에서 Mr, Miss, Nrs, Master만 추출하여 Title 열 만들기\n",
    "x_data['Title'] = x_data['Name'].str.extract('([A-za-z]+)\\.', expand=False)\n",
    "# 이름에서 Mr, Mirr, Mrs, Master의 갯수 확인하기\n",
    "x_data['Title'].value_counts()\n",
    "# print(x_data['Title'].value_counts())\n",
    "# Mapping을 이용해서 치환하기\n",
    "title_mapping = {\"Mr\" : 0, \"Miss\" : 1, \"Mrs\" : 2, \"Master\" : 3, \"Dr\" : 4, \n",
    "                 \"Rev\" : 4, \"Mlle\" : 4, \"Col\" : 4, \"Major\" : 4, \"Sir\" : 4, \n",
    "                 \"Jonkheer\" : 4, \"Countess\" : 4, \"Mme\" : 4, \"Capt\" : 4, \"Lady\" : 4,\n",
    "                 \"Ms\" : 4, \"Don\" : 4}\n",
    "x_data[\"Title\"] = x_data[\"Title\"].map(title_mapping)\n",
    "\n",
    "# Name 열 삭제하기\n",
    "del x_data[\"Name\"]\n",
    "# Ticket 열 삭제하기\n",
    "del x_data['Ticket']\n",
    "del x_data['PassengerId']\n",
    "\n",
    "x_data['Age'] = x_data['Age'].astype('float32')\n",
    "x_data['Fare'] = x_data['Fare'].astype('float32')\n",
    "x_data['Embarked'] = x_data['Embarked'].astype('float32')\n",
    "\n",
    "# print(x_data.dtypes)\n",
    "# print(x_data.shape)\n",
    "# print(x_data.head)\n",
    "column_namelist = list(x_data)\n",
    "\n",
    "x_train, x_test, y_train, y_test = train_test_split(x_data, y_data, test_size=0.3, random_state=0)\n",
    "\n",
    "# 데이터 0~1사이로 정형화\n",
    "sc = StandardScaler()\n",
    "sc.fit(x_train)\n",
    "X_train_scaled = sc.transform(x_train)\n",
    "X_test_scaled = sc.transform(x_test)\n",
    "# print(pd.DataFrame(X_test_scaled))\n",
    "\n",
    "df = pd.DataFrame(X_train_scaled)\n",
    "df_y = pd.DataFrame(X_test_scaled)\n",
    "df.head()"
   ]
  },
  {
   "cell_type": "markdown",
   "metadata": {},
   "source": [
    "## 모델 예측"
   ]
  },
  {
   "cell_type": "code",
   "execution_count": 96,
   "metadata": {},
   "outputs": [
    {
     "name": "stdout",
     "output_type": "stream",
     "text": [
      "KNN 모델 적용\n",
      "Accuracy on Training set: 0.8491171749598716\n",
      "Accuracy on Test set: 0.5223880597014925\n"
     ]
    }
   ],
   "source": [
    "from sklearn import neighbors, datasets\n",
    "from sklearn.metrics import accuracy_score\n",
    "\n",
    "model = neighbors.KNeighborsClassifier(6)\n",
    "model.fit(X_train_scaled, y_train)\n",
    "y_predict = model.predict(X_train_scaled)\n",
    "print('KNN 모델 적용')\n",
    "print('Accuracy on Training set: ',end='')\n",
    "print(accuracy_score(y_predict, y_train))\n",
    "y_predict = model.predict(x_test)\n",
    "print('Accuracy on Test set: ',end='')\n",
    "print(accuracy_score(y_predict, y_test))"
   ]
  },
  {
   "cell_type": "code",
   "execution_count": 97,
   "metadata": {},
   "outputs": [
    {
     "name": "stdout",
     "output_type": "stream",
     "text": [
      "linear SVC\n",
      "linear Accuracy on Training set: 0.735\n",
      "linear Accuracy on Test set: 0.731\n"
     ]
    }
   ],
   "source": [
    "# 가장 기본적인 서포트 벡터 머신\n",
    "linear_svm = LinearSVC().fit(X_train_scaled, y_train)\n",
    "print('linear SVC')\n",
    "print(\"linear Accuracy on Training set: {:.3f}\".format(linear_svm.score(x_train, y_train)))\n",
    "print(\"linear Accuracy on Test set: {:.3f}\".format(linear_svm.score(x_test, y_test)))"
   ]
  },
  {
   "attachments": {
    "image.png": {
     "image/png": "[encoded data removed]"
    }
   },
   "cell_type": "markdown",
   "metadata": {},
   "source": [
    "- Kernelized Support Vector Machine 디폴트 값 확인\n",
    "![image.png](attachment:image.png)"
   ]
  },
  {
   "cell_type": "code",
   "execution_count": 98,
   "metadata": {},
   "outputs": [
    {
     "name": "stdout",
     "output_type": "stream",
     "text": [
      "디폴트 값\n",
      "Accuracy on Training set: 0.852\n",
      "Accuracy on Test set: 0.817\n"
     ]
    }
   ],
   "source": [
    "# Kernelized Support Vector Machine \n",
    "# Kernal = RBF\n",
    "# Hyperparameter를 모두 default로 했을 때\n",
    "svc = SVC()\n",
    "svc.fit(X_train_scaled, y_train)\n",
    "print('디폴트 값')\n",
    "print(\"Accuracy on Training set: {:.3f}\".format(svc.score(X_train_scaled, y_train)))\n",
    "print(\"Accuracy on Test set: {:.3f}\".format(svc.score(X_test_scaled, y_test)))"
   ]
  },
  {
   "cell_type": "code",
   "execution_count": 99,
   "metadata": {},
   "outputs": [
    {
     "name": "stdout",
     "output_type": "stream",
     "text": [
      "SVC setting : Kernal=rbf, C=100 , gamma=auto\n",
      "Accuracy on Training set: 0.910\n",
      "Accuracy on Test set: 0.813\n"
     ]
    }
   ],
   "source": [
    "# Hyperparameter C=100\n",
    "svc = SVC(C=100,gamma=1.0)\n",
    "svc.fit(X_train_scaled, y_train)\n",
    "print('SVC setting : Kernal=rbf, C=100 , gamma=auto')\n",
    "print(\"Accuracy on Training set: {:.3f}\".format(svc.score(X_train_scaled, y_train)))\n",
    "print(\"Accuracy on Test set: {:.3f}\".format(svc.score(X_test_scaled, y_test)))"
   ]
  },
  {
   "cell_type": "code",
   "execution_count": 100,
   "metadata": {},
   "outputs": [
    {
     "name": "stdout",
     "output_type": "stream",
     "text": [
      "SVC setting : Kernal=Poly, C=1000, gamma=0.1\n",
      "Accuracy on Training set: 0.896\n",
      "Accuracy on Test set: 0.787\n"
     ]
    }
   ],
   "source": [
    "# kernel = poly, C = 1000, gamma = 0.1을 적용한 SVC\n",
    "svc = SVC(kernel='poly', C=1000, gamma=0.1).fit(X_train_scaled, y_train)\n",
    "print('SVC setting : Kernal=Poly, C=1000, gamma=0.1')\n",
    "print(\"Accuracy on Training set: {:.3f}\".format(svc.score(X_train_scaled, y_train)))\n",
    "print(\"Accuracy on Test set: {:.3f}\".format(svc.score(X_test_scaled, y_test)))"
   ]
  },
  {
   "cell_type": "code",
   "execution_count": 101,
   "metadata": {},
   "outputs": [
    {
     "name": "stdout",
     "output_type": "stream",
     "text": [
      "SVC setting : Kernal=sigmoid, C=1000, gamma=0.1\n",
      "Accuracy on Training set: 0.690\n",
      "Accuracy on Test set: 0.716\n"
     ]
    }
   ],
   "source": [
    "# kernel = sigmoid, C = 1000, gamma = 0.1을 적용한 SVC\n",
    "svc = SVC(kernel='sigmoid', C=1000, gamma=0.1).fit(X_train_scaled, y_train)\n",
    "print('SVC setting : Kernal=sigmoid, C=1000, gamma=0.1')\n",
    "print(\"Accuracy on Training set: {:.3f}\".format(svc.score(X_train_scaled, y_train)))\n",
    "print(\"Accuracy on Test set: {:.3f}\".format(svc.score(X_test_scaled, y_test)))"
   ]
  },
  {
   "cell_type": "code",
   "execution_count": 102,
   "metadata": {},
   "outputs": [
    {
     "name": "stdout",
     "output_type": "stream",
     "text": [
      "Fitting 3 folds for each of 108 candidates, totalling 324 fits\n"
     ]
    },
    {
     "name": "stderr",
     "output_type": "stream",
     "text": [
      "[Parallel(n_jobs=1)]: Using backend SequentialBackend with 1 concurrent workers.\n"
     ]
    },
    {
     "name": "stdout",
     "output_type": "stream",
     "text": [
      "The best parameters are  {'C': 10, 'gamma': 0.01, 'kernel': 'rbf'}\n"
     ]
    },
    {
     "name": "stderr",
     "output_type": "stream",
     "text": [
      "[Parallel(n_jobs=1)]: Done 324 out of 324 | elapsed:    5.4s finished\n"
     ]
    }
   ],
   "source": [
    "# 최적의 Hyperparameter를 찾기 위해 GridSearchCV 적용!\n",
    "from sklearn.model_selection import GridSearchCV\n",
    "param_grid = {'C' : [0.1, 1, 10, 100, 1000, 10000], \n",
    "             'gamma' : [1, 0.1, 0.01, 0.001, 0.0001, 0.00001],\n",
    "             'kernel' : ['rbf','poly','sigmoid']}\n",
    "\n",
    "grid = GridSearchCV(SVC(), param_grid, refit=True, verbose=1)\n",
    "# refit : 찾아진 가장 좋은 params로 estimator를 setting할 지 여부 (setting해줘야 곧바로 predict가 가능)\n",
    "# verbose : 설명의 자세한 정도 (verbose를 3과 같이 바꿔보시면 더 자세하게 매 param set 마다의 결과를 확인할 수 있습니다.)\n",
    "grid.fit(X_train_scaled, y_train)\n",
    "print('The best parameters are ', grid.best_params_)"
   ]
  },
  {
   "cell_type": "code",
   "execution_count": 103,
   "metadata": {},
   "outputs": [
    {
     "name": "stdout",
     "output_type": "stream",
     "text": [
      "GridSearchCV 적용 결과\n",
      "잘 안된다....ㅠ\n",
      "Accuracy on Training set: 0.900\n",
      "Accuracy on Test set: 0.787\n"
     ]
    }
   ],
   "source": [
    "# GridSearchCV 적용된 SVC\n",
    "svc = SVC(kernel='rbf', C=100, gamma=0.001)\n",
    "svc = SVC(C=1000, gamma=0.1)\n",
    "svc.fit(X_train_scaled, y_train)\n",
    "\n",
    "print('GridSearchCV 적용 결과')\n",
    "print('잘 안된다....ㅠ')\n",
    "print(\"Accuracy on Training set: {:.3f}\".format(svc.score(X_train_scaled, y_train)))\n",
    "print(\"Accuracy on Test set: {:.3f}\".format(svc.score(X_test_scaled, y_test)))"
   ]
  },
  {
   "cell_type": "code",
   "execution_count": 104,
   "metadata": {},
   "outputs": [
    {
     "data": {
      "text/plain": [
       "GradientBoostingClassifier(criterion='friedman_mse', init=None,\n",
       "              learning_rate=0.005, loss='deviance', max_depth=4,\n",
       "              max_features=None, max_leaf_nodes=None,\n",
       "              min_impurity_decrease=0.0, min_impurity_split=None,\n",
       "              min_samples_leaf=1, min_samples_split=2,\n",
       "              min_weight_fraction_leaf=0.0, n_estimators=1000,\n",
       "              n_iter_no_change=None, presort='auto', random_state=None,\n",
       "              subsample=1.0, tol=0.0001, validation_fraction=0.1,\n",
       "              verbose=0, warm_start=False)"
      ]
     },
     "execution_count": 104,
     "metadata": {},
     "output_type": "execute_result"
    }
   ],
   "source": [
    "params = {'n_estimators': 1000, 'max_depth': 4, 'min_samples_split': 2,\n",
    "          'learning_rate': 0.005}\n",
    "model = ensemble.GradientBoostingClassifier(**params)\n",
    "model.fit(X_train_scaled, y_train)"
   ]
  },
  {
   "cell_type": "code",
   "execution_count": 105,
   "metadata": {},
   "outputs": [
    {
     "name": "stdout",
     "output_type": "stream",
     "text": [
      "(623, 9)\n",
      "(623, 1)\n",
      "Accuracy on Training set: 0.947\n",
      "Accuracy on Test set: 0.840\n"
     ]
    }
   ],
   "source": [
    "from sklearn.ensemble import RandomForestClassifier\n",
    "\n",
    "model = RandomForestClassifier(n_estimators=100)\n",
    "print(X_train_scaled.shape)\n",
    "print(y_train.shape)\n",
    "model.fit(X_train_scaled, y_train)\n",
    "print(\"Accuracy on Training set: {:.3f}\".format(model.score(X_train_scaled, y_train)))\n",
    "print(\"Accuracy on Test set: {:.3f}\".format(model.score(X_test_scaled, y_test)))"
   ]
  },
  {
   "cell_type": "code",
   "execution_count": 106,
   "metadata": {},
   "outputs": [
    {
     "name": "stdout",
     "output_type": "stream",
     "text": [
      "0.9470304975922953\n",
      "0.8395522388059702\n",
      "['Parch', 'Cabin', 'Embarked', 'Age', 'SibSp', 'Pclass', 'Sex', 'Title', 'Fare']\n"
     ]
    },
    {
     "data": {
      "image/png": "[encoded data removed]",
      "text/plain": [
       "<Figure size 432x288 with 1 Axes>"
      ]
     },
     "metadata": {
      "needs_background": "light"
     },
     "output_type": "display_data"
    }
   ],
   "source": [
    "aa = model.score(X_train_scaled, y_train)\n",
    "print(aa)\n",
    "bb = model.score(X_test_scaled, y_test)\n",
    "print(bb)\n",
    "\n",
    "# Plot feature importance\n",
    "feature_importance = model.feature_importances_\n",
    "# make importances relative to max importance\n",
    "feature_importance = 100.0 * (feature_importance / feature_importance.max())\n",
    "\n",
    "sorted_idx = np.argsort(feature_importance)\n",
    "sorted_name = []\n",
    "for val in sorted_idx :\n",
    "    sorted_name.append(column_namelist[val])\n",
    "\n",
    "print(sorted_name)\n",
    "pos = np.arange(sorted_idx.shape[0]) + .5\n",
    "\n",
    "plt.subplot(1, 2, 2)\n",
    "plt.barh(pos, feature_importance[sorted_idx], align='center')\n",
    "plt.yticks(pos, sorted_name)\n",
    "plt.xlabel('Relative Importance')\n",
    "plt.title('Variable Importance')\n",
    "plt.show()"
   ]
  },
  {
   "attachments": {
    "image.png": {
     "image/png": "[encoded data removed]"
    }
   },
   "cell_type": "markdown",
   "metadata": {},
   "source": [
    "딥러닝 사용 모델\n",
    "![image.png](attachment:image.png)"
   ]
  },
  {
   "attachments": {
    "image.png": {
     "image/png": "[encoded data removed]"
    }
   },
   "cell_type": "markdown",
   "metadata": {},
   "source": [
    "결과\n",
    "![image.png](attachment:image.png)"
   ]
  },
  {
   "cell_type": "code",
   "execution_count": null,
   "metadata": {},
   "outputs": [],
   "source": []
  }
 ],
 "metadata": {
  "kernelspec": {
   "display_name": "Python 3",
   "language": "python",
   "name": "python3"
  },
  "language_info": {
   "codemirror_mode": {
    "name": "ipython",
    "version": 3
   },
   "file_extension": ".py",
   "mimetype": "text/x-python",
   "name": "python",
   "nbconvert_exporter": "python",
   "pygments_lexer": "ipython3",
   "version": "3.7.3"
  }
 },
 "nbformat": 4,
 "nbformat_minor": 2
}
