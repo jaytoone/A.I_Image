{
 "cells": [
  {
   "cell_type": "code",
   "execution_count": 45,
   "metadata": {},
   "outputs": [],
   "source": [
    "# ! pip install keras==2.1.1"
   ]
  },
  {
   "cell_type": "code",
   "execution_count": 46,
   "metadata": {},
   "outputs": [],
   "source": [
    "import numpy as np # linear algebra\n",
    "import pandas as pd # data processing, CSV file I/O (e.g. pd.read_csv)\n",
    "\n",
    "# Input data files are available in the \"../input/\" directory.\n",
    "# For example, running this (by clicking run or pressing Shift+Enter) will list all files under the input directory\n",
    "\n",
    "import os\n",
    "for dirname, _, filenames in os.walk('/kaggle/input'):\n",
    "    for filename in filenames:\n",
    "        print(os.path.join(dirname, filename))\n"
   ]
  },
  {
   "cell_type": "code",
   "execution_count": 47,
   "metadata": {},
   "outputs": [],
   "source": [
    "import pandas as pd\n",
    "import numpy as np\n",
    "from matplotlib import pyplot\n",
    "import scipy.misc \n",
    "from math import sqrt \n",
    "import itertools\n",
    "from IPython.display import display\n",
    "%matplotlib inline"
   ]
  },
  {
   "cell_type": "code",
   "execution_count": 48,
   "metadata": {},
   "outputs": [
    {
     "data": {
      "text/html": [
       "<div>\n",
       "<style scoped>\n",
       "    .dataframe tbody tr th:only-of-type {\n",
       "        vertical-align: middle;\n",
       "    }\n",
       "\n",
       "    .dataframe tbody tr th {\n",
       "        vertical-align: top;\n",
       "    }\n",
       "\n",
       "    .dataframe thead th {\n",
       "        text-align: right;\n",
       "    }\n",
       "</style>\n",
       "<table border=\"1\" class=\"dataframe\">\n",
       "  <thead>\n",
       "    <tr style=\"text-align: right;\">\n",
       "      <th></th>\n",
       "      <th>emotion</th>\n",
       "      <th>pixels</th>\n",
       "      <th>Usage</th>\n",
       "    </tr>\n",
       "  </thead>\n",
       "  <tbody>\n",
       "    <tr>\n",
       "      <th>0</th>\n",
       "      <td>0</td>\n",
       "      <td>70 80 82 72 58 58 60 63 54 58 60 48 89 115 121...</td>\n",
       "      <td>Training</td>\n",
       "    </tr>\n",
       "    <tr>\n",
       "      <th>1</th>\n",
       "      <td>0</td>\n",
       "      <td>151 150 147 155 148 133 111 140 170 174 182 15...</td>\n",
       "      <td>Training</td>\n",
       "    </tr>\n",
       "    <tr>\n",
       "      <th>2</th>\n",
       "      <td>2</td>\n",
       "      <td>231 212 156 164 174 138 161 173 182 200 106 38...</td>\n",
       "      <td>Training</td>\n",
       "    </tr>\n",
       "    <tr>\n",
       "      <th>3</th>\n",
       "      <td>4</td>\n",
       "      <td>24 32 36 30 32 23 19 20 30 41 21 22 32 34 21 1...</td>\n",
       "      <td>Training</td>\n",
       "    </tr>\n",
       "    <tr>\n",
       "      <th>4</th>\n",
       "      <td>6</td>\n",
       "      <td>4 0 0 0 0 0 0 0 0 0 0 0 3 15 23 28 48 50 58 84...</td>\n",
       "      <td>Training</td>\n",
       "    </tr>\n",
       "  </tbody>\n",
       "</table>\n",
       "</div>"
      ],
      "text/plain": [
       "   emotion                                             pixels     Usage\n",
       "0        0  70 80 82 72 58 58 60 63 54 58 60 48 89 115 121...  Training\n",
       "1        0  151 150 147 155 148 133 111 140 170 174 182 15...  Training\n",
       "2        2  231 212 156 164 174 138 161 173 182 200 106 38...  Training\n",
       "3        4  24 32 36 30 32 23 19 20 30 41 21 22 32 34 21 1...  Training\n",
       "4        6  4 0 0 0 0 0 0 0 0 0 0 0 3 15 23 28 48 50 58 84...  Training"
      ]
     },
     "execution_count": 48,
     "metadata": {},
     "output_type": "execute_result"
    }
   ],
   "source": [
    "data= pd.read_csv('./fer2013.csv')\n",
    "data.head()"
   ]
  },
  {
   "cell_type": "code",
   "execution_count": 49,
   "metadata": {},
   "outputs": [],
   "source": [
    "from pylab import rcParams\n",
    "rcParams['figure.figsize'] = 15, 10"
   ]
  },
  {
   "cell_type": "code",
   "execution_count": 50,
   "metadata": {},
   "outputs": [
    {
     "data": {
      "text/plain": [
       "Training       28709\n",
       "PrivateTest     3589\n",
       "PublicTest      3589\n",
       "Name: Usage, dtype: int64"
      ]
     },
     "execution_count": 50,
     "metadata": {},
     "output_type": "execute_result"
    }
   ],
   "source": [
    "num_classes = 7\n",
    "width = 48\n",
    "height = 48\n",
    "emotion_labels = [\"Angry\", \"Disgust\", \"Fear\", \"Happy\", \"Sad\", \"Surprise\", \"Neutral\"]\n",
    "classes=np.array((\"Angry\", \"Disgust\", \"Fear\", \"Happy\", \"Sad\", \"Surprise\", \"Neutral\"))\n",
    "data.Usage.value_counts() "
   ]
  },
  {
   "cell_type": "code",
   "execution_count": 51,
   "metadata": {},
   "outputs": [
    {
     "name": "stderr",
     "output_type": "stream",
     "text": [
      "C:\\Users\\student\\Anaconda3\\lib\\site-packages\\ipykernel_launcher.py:6: DeprecationWarning: `toimage` is deprecated!\n",
      "`toimage` is deprecated in SciPy 1.0.0, and will be removed in 1.2.0.\n",
      "Use Pillow's ``Image.fromarray`` directly instead.\n",
      "  \n"
     ]
    },
    {
     "data": {
      "image/png": "[encoded data removed]",
      "text/plain": [
       "<PIL.Image.Image image mode=L size=48x48 at 0x2BF0480D550>"
      ]
     },
     "metadata": {},
     "output_type": "display_data"
    },
    {
     "name": "stdout",
     "output_type": "stream",
     "text": [
      "Angry\n"
     ]
    },
    {
     "data": {
      "image/png": "[encoded data removed]",
      "text/plain": [
       "<PIL.Image.Image image mode=L size=48x48 at 0x2BF047E0DA0>"
      ]
     },
     "metadata": {},
     "output_type": "display_data"
    },
    {
     "name": "stdout",
     "output_type": "stream",
     "text": [
      "Angry\n"
     ]
    },
    {
     "data": {
      "image/png": "[encoded data removed]",
      "text/plain": [
       "<PIL.Image.Image image mode=L size=48x48 at 0x2BF2289D1D0>"
      ]
     },
     "metadata": {},
     "output_type": "display_data"
    },
    {
     "name": "stdout",
     "output_type": "stream",
     "text": [
      "Fear\n"
     ]
    },
    {
     "data": {
      "image/png": "[encoded data removed]",
      "text/plain": [
       "<PIL.Image.Image image mode=L size=48x48 at 0x2C016FB4048>"
      ]
     },
     "metadata": {},
     "output_type": "display_data"
    },
    {
     "name": "stdout",
     "output_type": "stream",
     "text": [
      "Sad\n"
     ]
    },
    {
     "data": {
      "image/png": "[encoded data removed]",
      "text/plain": [
       "<PIL.Image.Image image mode=L size=48x48 at 0x2BF22A4A5C0>"
      ]
     },
     "metadata": {},
     "output_type": "display_data"
    },
    {
     "name": "stdout",
     "output_type": "stream",
     "text": [
      "Neutral\n"
     ]
    },
    {
     "data": {
      "image/png": "[encoded data removed]",
      "text/plain": [
       "<PIL.Image.Image image mode=L size=48x48 at 0x2BF2366EB70>"
      ]
     },
     "metadata": {},
     "output_type": "display_data"
    },
    {
     "name": "stdout",
     "output_type": "stream",
     "text": [
      "Fear\n"
     ]
    },
    {
     "data": {
      "image/png": "[encoded data removed]",
      "text/plain": [
       "<PIL.Image.Image image mode=L size=48x48 at 0x2BF2366EF60>"
      ]
     },
     "metadata": {},
     "output_type": "display_data"
    },
    {
     "name": "stdout",
     "output_type": "stream",
     "text": [
      "Sad\n"
     ]
    },
    {
     "data": {
      "image/png": "[encoded data removed]",
      "text/plain": [
       "<PIL.Image.Image image mode=L size=48x48 at 0x2BF03781438>"
      ]
     },
     "metadata": {},
     "output_type": "display_data"
    },
    {
     "name": "stdout",
     "output_type": "stream",
     "text": [
      "Happy\n"
     ]
    },
    {
     "data": {
      "image/png": "[encoded data removed]",
      "text/plain": [
       "<PIL.Image.Image image mode=L size=48x48 at 0x2BF4EE200F0>"
      ]
     },
     "metadata": {},
     "output_type": "display_data"
    },
    {
     "name": "stdout",
     "output_type": "stream",
     "text": [
      "Happy\n"
     ]
    },
    {
     "data": {
      "image/png": "[encoded data removed]",
      "text/plain": [
       "<PIL.Image.Image image mode=L size=48x48 at 0x2BF228985F8>"
      ]
     },
     "metadata": {},
     "output_type": "display_data"
    },
    {
     "name": "stdout",
     "output_type": "stream",
     "text": [
      "Fear\n"
     ]
    }
   ],
   "source": [
    "depth = 1\n",
    "height = int(sqrt(len(data.pixels[0].split()))) \n",
    "width = int(height)\n",
    "for i in range(0, 10): \n",
    "    array = np.mat(data.pixels[i]).reshape(height, width) \n",
    "    image = scipy.misc.toimage(array, cmin=0.0) \n",
    "    display(image)\n",
    "    print(emotion_labels[data.emotion[i]]) "
   ]
  },
  {
   "cell_type": "code",
   "execution_count": 68,
   "metadata": {},
   "outputs": [
    {
     "name": "stdout",
     "output_type": "stream",
     "text": [
      "[0.6666667  0.4627451  0.39607844 ... 0.62352943 0.52156866 0.5137255 ]\n"
     ]
    }
   ],
   "source": [
    "train_set = data[(data.Usage == 'Training')] \n",
    "val_set = data[(data.Usage == 'PublicTest')]\n",
    "test_set = data[(data.Usage == 'PrivateTest')] \n",
    "X_train = np.array(list(map(str.split, train_set.pixels)), np.float32) / 255.0\n",
    "X_val = np.array(list(map(str.split, val_set.pixels)), np.float32) / 255.0\n",
    "X_test = np.array(list(map(str.split, test_set.pixels)), np.float32) / 255.0\n",
    "\n",
    "# X_train = X_train.reshape(X_train.shape[0], 48, 48, 1) \n",
    "# X_val = X_val.reshape(X_val.shape[0], 48, 48, 1)\n",
    "# X_test = X_test.reshape(X_test.shape[0], 48, 48, 1)\n",
    "\n",
    "print(X_test[0])"
   ]
  },
  {
   "cell_type": "code",
   "execution_count": 74,
   "metadata": {},
   "outputs": [
    {
     "name": "stdout",
     "output_type": "stream",
     "text": [
      "(28709, 2304)\n"
     ]
    }
   ],
   "source": [
    "num_train = X_train.shape[0]\n",
    "num_val = X_val.shape[0]\n",
    "num_test = X_test.shape[0]\n",
    "\n",
    "print(X_train.shape)"
   ]
  },
  {
   "cell_type": "code",
   "execution_count": 75,
   "metadata": {},
   "outputs": [],
   "source": [
    "from keras.utils import np_utils\n",
    "from keras.preprocessing.image import ImageDataGenerator \n",
    "\n",
    "import tensorflow as tf\n",
    "from tensorflow.keras import datasets, utils\n",
    "from tensorflow.keras import models, layers, activations, initializers, losses, optimizers, metrics\n",
    "\n",
    "import os\n",
    "tf.logging.set_verbosity(tf.logging.ERROR)\n",
    "os.environ['TF_CPP_MIN_LOG_LEVEL'] = '2'"
   ]
  },
  {
   "cell_type": "code",
   "execution_count": 76,
   "metadata": {},
   "outputs": [
    {
     "name": "stdout",
     "output_type": "stream",
     "text": [
      "3    879\n",
      "6    626\n",
      "4    594\n",
      "2    528\n",
      "0    491\n",
      "5    416\n",
      "1     55\n",
      "Name: emotion, dtype: int64\n",
      "[[1. 0. 0. ... 0. 0. 0.]\n",
      " [0. 0. 0. ... 0. 1. 0.]\n",
      " [0. 0. 0. ... 0. 0. 1.]\n",
      " ...\n",
      " [1. 0. 0. ... 0. 0. 0.]\n",
      " [0. 0. 0. ... 0. 0. 0.]\n",
      " [0. 0. 1. ... 0. 0. 0.]]\n"
     ]
    }
   ],
   "source": [
    "y_train = train_set.emotion \n",
    "y_train = np_utils.to_categorical(y_train, num_classes) \n",
    "y_val = val_set.emotion \n",
    "y_val = np_utils.to_categorical(y_val, num_classes) \n",
    "y_test = test_set.emotion \n",
    "print(y_test.value_counts())\n",
    "y_test = np_utils.to_categorical(y_test, num_classes)\n",
    "print(y_test)"
   ]
  },
  {
   "cell_type": "code",
   "execution_count": 77,
   "metadata": {},
   "outputs": [],
   "source": [
    "model = models.Sequential() \n",
    "\n",
    "model.add(layers.Dense(input_dim=48*48, units=256, activation=None, kernel_initializer=initializers.he_uniform())) \n",
    "model.add(layers.BatchNormalization())\n",
    "model.add(layers.Activation('relu')) # layers.ELU or layers.LeakyReLU\n",
    "model.add(layers.Dropout(rate=0.2))\n",
    "\n",
    "model.add(layers.Dense(units=256, activation=None, kernel_initializer=initializers.he_uniform())) \n",
    "model.add(layers.BatchNormalization())\n",
    "model.add(layers.Activation('relu')) # layers.ELU or layers.LeakyReLU\n",
    "model.add(layers.Dropout(rate=0.2))\n",
    "\n",
    "model.add(layers.Dense(units=7, activation='softmax')) # 0~9 "
   ]
  },
  {
   "cell_type": "code",
   "execution_count": 78,
   "metadata": {},
   "outputs": [],
   "source": [
    "model.compile(optimizer=optimizers.Adam(), \n",
    "              loss=losses.categorical_crossentropy, \n",
    "              metrics=[metrics.categorical_accuracy]) "
   ]
  },
  {
   "cell_type": "code",
   "execution_count": 79,
   "metadata": {},
   "outputs": [
    {
     "name": "stdout",
     "output_type": "stream",
     "text": [
      "Train on 22967 samples, validate on 5742 samples\n",
      "Epoch 1/200\n",
      "22967/22967 [==============================] - 3s 121us/sample - loss: 1.7965 - categorical_accuracy: 0.3030 - val_loss: 1.8421 - val_categorical_accuracy: 0.2327\n",
      "Epoch 2/200\n",
      "22967/22967 [==============================] - 2s 83us/sample - loss: 1.6516 - categorical_accuracy: 0.3539 - val_loss: 1.6606 - val_categorical_accuracy: 0.3548\n",
      "Epoch 3/200\n",
      "22967/22967 [==============================] - 2s 84us/sample - loss: 1.5908 - categorical_accuracy: 0.3798 - val_loss: 1.6808 - val_categorical_accuracy: 0.3351\n",
      "Epoch 4/200\n",
      "22967/22967 [==============================] - 2s 83us/sample - loss: 1.5386 - categorical_accuracy: 0.3990 - val_loss: 1.6955 - val_categorical_accuracy: 0.3272\n",
      "Epoch 5/200\n",
      "22967/22967 [==============================] - 2s 84us/sample - loss: 1.4972 - categorical_accuracy: 0.4210 - val_loss: 1.6797 - val_categorical_accuracy: 0.3427\n",
      "Epoch 6/200\n",
      "22967/22967 [==============================] - 2s 82us/sample - loss: 1.4678 - categorical_accuracy: 0.4315 - val_loss: 1.6065 - val_categorical_accuracy: 0.3760\n",
      "Epoch 7/200\n",
      "22967/22967 [==============================] - 2s 84us/sample - loss: 1.4282 - categorical_accuracy: 0.4476 - val_loss: 1.6473 - val_categorical_accuracy: 0.3262\n",
      "Epoch 8/200\n",
      "22967/22967 [==============================] - 2s 84us/sample - loss: 1.4061 - categorical_accuracy: 0.4581 - val_loss: 1.6704 - val_categorical_accuracy: 0.3312\n",
      "Epoch 9/200\n",
      "22967/22967 [==============================] - 2s 85us/sample - loss: 1.3766 - categorical_accuracy: 0.4716 - val_loss: 1.5926 - val_categorical_accuracy: 0.3720\n",
      "Epoch 10/200\n",
      "22967/22967 [==============================] - 2s 81us/sample - loss: 1.3462 - categorical_accuracy: 0.4833 - val_loss: 2.0133 - val_categorical_accuracy: 0.2247\n",
      "Epoch 11/200\n",
      "22967/22967 [==============================] - 2s 83us/sample - loss: 1.3195 - categorical_accuracy: 0.4958 - val_loss: 1.7143 - val_categorical_accuracy: 0.3281\n",
      "Epoch 12/200\n",
      "22967/22967 [==============================] - 2s 89us/sample - loss: 1.2978 - categorical_accuracy: 0.5035 - val_loss: 1.6089 - val_categorical_accuracy: 0.3685\n",
      "Epoch 13/200\n",
      "22967/22967 [==============================] - 2s 83us/sample - loss: 1.2580 - categorical_accuracy: 0.5203 - val_loss: 1.6077 - val_categorical_accuracy: 0.3807\n",
      "Epoch 14/200\n",
      "22967/22967 [==============================] - 2s 82us/sample - loss: 1.2320 - categorical_accuracy: 0.5324 - val_loss: 1.7627 - val_categorical_accuracy: 0.3083\n",
      "Epoch 15/200\n",
      "22967/22967 [==============================] - 2s 82us/sample - loss: 1.2053 - categorical_accuracy: 0.5454 - val_loss: 1.8376 - val_categorical_accuracy: 0.2914\n",
      "Epoch 16/200\n",
      "22967/22967 [==============================] - 2s 84us/sample - loss: 1.1773 - categorical_accuracy: 0.5536 - val_loss: 1.9506 - val_categorical_accuracy: 0.3377\n",
      "Epoch 17/200\n",
      "22967/22967 [==============================] - 2s 86us/sample - loss: 1.1470 - categorical_accuracy: 0.5676 - val_loss: 2.1171 - val_categorical_accuracy: 0.2823\n",
      "Epoch 18/200\n",
      "22967/22967 [==============================] - 2s 85us/sample - loss: 1.1145 - categorical_accuracy: 0.5831 - val_loss: 2.4448 - val_categorical_accuracy: 0.2398\n",
      "Epoch 19/200\n",
      "22967/22967 [==============================] - 2s 80us/sample - loss: 1.0867 - categorical_accuracy: 0.5952 - val_loss: 1.8797 - val_categorical_accuracy: 0.3011\n",
      "Epoch 20/200\n",
      "22967/22967 [==============================] - 2s 81us/sample - loss: 1.0566 - categorical_accuracy: 0.6062 - val_loss: 1.8454 - val_categorical_accuracy: 0.3286\n",
      "Epoch 21/200\n",
      "22967/22967 [==============================] - 2s 82us/sample - loss: 1.0252 - categorical_accuracy: 0.6200 - val_loss: 1.7459 - val_categorical_accuracy: 0.3671\n",
      "Epoch 22/200\n",
      "22967/22967 [==============================] - 2s 82us/sample - loss: 1.0025 - categorical_accuracy: 0.6264 - val_loss: 2.0417 - val_categorical_accuracy: 0.2867\n",
      "Epoch 23/200\n",
      "22967/22967 [==============================] - 2s 82us/sample - loss: 0.9777 - categorical_accuracy: 0.6386 - val_loss: 1.8807 - val_categorical_accuracy: 0.3391\n",
      "Epoch 24/200\n",
      "22967/22967 [==============================] - 2s 84us/sample - loss: 0.9436 - categorical_accuracy: 0.6488 - val_loss: 1.8744 - val_categorical_accuracy: 0.3384\n",
      "Epoch 25/200\n",
      "22967/22967 [==============================] - 2s 84us/sample - loss: 0.9212 - categorical_accuracy: 0.6560 - val_loss: 1.7833 - val_categorical_accuracy: 0.3473\n",
      "Epoch 26/200\n",
      "22967/22967 [==============================] - 2s 83us/sample - loss: 0.8964 - categorical_accuracy: 0.6655 - val_loss: 1.9148 - val_categorical_accuracy: 0.3204\n",
      "Epoch 27/200\n",
      "22967/22967 [==============================] - 2s 81us/sample - loss: 0.8741 - categorical_accuracy: 0.6781 - val_loss: 2.0458 - val_categorical_accuracy: 0.3063\n",
      "Epoch 28/200\n",
      "22967/22967 [==============================] - 2s 80us/sample - loss: 0.8511 - categorical_accuracy: 0.6850 - val_loss: 1.8482 - val_categorical_accuracy: 0.3476\n",
      "Epoch 29/200\n",
      "22967/22967 [==============================] - 2s 81us/sample - loss: 0.8303 - categorical_accuracy: 0.6953 - val_loss: 2.0014 - val_categorical_accuracy: 0.2945\n",
      "Epoch 30/200\n",
      "22967/22967 [==============================] - 2s 81us/sample - loss: 0.8086 - categorical_accuracy: 0.7031 - val_loss: 2.0214 - val_categorical_accuracy: 0.3386\n",
      "Epoch 31/200\n",
      "22967/22967 [==============================] - 2s 82us/sample - loss: 0.7859 - categorical_accuracy: 0.7084 - val_loss: 1.8441 - val_categorical_accuracy: 0.3680\n",
      "Epoch 32/200\n",
      "22967/22967 [==============================] - 2s 81us/sample - loss: 0.7570 - categorical_accuracy: 0.7190 - val_loss: 2.0400 - val_categorical_accuracy: 0.3647\n",
      "Epoch 33/200\n",
      "22967/22967 [==============================] - 2s 82us/sample - loss: 0.7381 - categorical_accuracy: 0.7309 - val_loss: 2.1771 - val_categorical_accuracy: 0.3084\n",
      "Epoch 34/200\n",
      "22967/22967 [==============================] - 2s 82us/sample - loss: 0.7250 - categorical_accuracy: 0.7319 - val_loss: 2.5306 - val_categorical_accuracy: 0.2882\n",
      "Epoch 35/200\n",
      "22967/22967 [==============================] - 2s 83us/sample - loss: 0.7154 - categorical_accuracy: 0.7383 - val_loss: 1.9704 - val_categorical_accuracy: 0.3352\n",
      "Epoch 36/200\n",
      "22967/22967 [==============================] - 2s 83us/sample - loss: 0.6871 - categorical_accuracy: 0.7487 - val_loss: 2.0889 - val_categorical_accuracy: 0.3199\n",
      "Epoch 37/200\n",
      "22967/22967 [==============================] - 2s 85us/sample - loss: 0.6774 - categorical_accuracy: 0.7516 - val_loss: 2.2035 - val_categorical_accuracy: 0.3156\n",
      "Epoch 38/200\n",
      "22967/22967 [==============================] - 2s 85us/sample - loss: 0.6634 - categorical_accuracy: 0.7566 - val_loss: 2.3168 - val_categorical_accuracy: 0.3098\n",
      "Epoch 39/200\n",
      "22967/22967 [==============================] - 2s 84us/sample - loss: 0.6496 - categorical_accuracy: 0.7613 - val_loss: 2.0490 - val_categorical_accuracy: 0.3833\n",
      "Epoch 40/200\n",
      "22967/22967 [==============================] - 2s 84us/sample - loss: 0.6309 - categorical_accuracy: 0.7709 - val_loss: 2.5929 - val_categorical_accuracy: 0.3192\n",
      "Epoch 41/200\n",
      "22967/22967 [==============================] - 2s 81us/sample - loss: 0.6183 - categorical_accuracy: 0.7768 - val_loss: 2.7971 - val_categorical_accuracy: 0.3063\n",
      "Epoch 42/200\n",
      "22967/22967 [==============================] - 2s 82us/sample - loss: 0.6051 - categorical_accuracy: 0.7808 - val_loss: 2.3435 - val_categorical_accuracy: 0.3711\n",
      "Epoch 43/200\n",
      "22967/22967 [==============================] - 2s 87us/sample - loss: 0.5995 - categorical_accuracy: 0.7793 - val_loss: 2.3653 - val_categorical_accuracy: 0.3830\n",
      "Epoch 44/200\n",
      "22967/22967 [==============================] - 2s 87us/sample - loss: 0.5924 - categorical_accuracy: 0.7867 - val_loss: 2.5311 - val_categorical_accuracy: 0.2894\n",
      "Epoch 45/200\n",
      "22967/22967 [==============================] - 2s 85us/sample - loss: 0.5726 - categorical_accuracy: 0.7916 - val_loss: 2.3014 - val_categorical_accuracy: 0.3730\n",
      "Epoch 46/200\n",
      "22967/22967 [==============================] - 2s 83us/sample - loss: 0.5615 - categorical_accuracy: 0.7968 - val_loss: 2.5434 - val_categorical_accuracy: 0.3487\n",
      "Epoch 47/200\n"
     ]
    },
    {
     "name": "stdout",
     "output_type": "stream",
     "text": [
      "22967/22967 [==============================] - 2s 85us/sample - loss: 0.5376 - categorical_accuracy: 0.8030 - val_loss: 2.1377 - val_categorical_accuracy: 0.3410\n",
      "Epoch 48/200\n",
      "22967/22967 [==============================] - 2s 85us/sample - loss: 0.5488 - categorical_accuracy: 0.7991 - val_loss: 2.2958 - val_categorical_accuracy: 0.3400\n",
      "Epoch 49/200\n",
      "22967/22967 [==============================] - 2s 84us/sample - loss: 0.5330 - categorical_accuracy: 0.8093 - val_loss: 2.4470 - val_categorical_accuracy: 0.3535\n",
      "Epoch 50/200\n",
      "22967/22967 [==============================] - 2s 86us/sample - loss: 0.5190 - categorical_accuracy: 0.8147 - val_loss: 2.6790 - val_categorical_accuracy: 0.3346\n",
      "Epoch 51/200\n",
      "22967/22967 [==============================] - 2s 84us/sample - loss: 0.5160 - categorical_accuracy: 0.8124 - val_loss: 2.6631 - val_categorical_accuracy: 0.3210\n",
      "Epoch 52/200\n",
      "22967/22967 [==============================] - 2s 83us/sample - loss: 0.5075 - categorical_accuracy: 0.8165 - val_loss: 2.2194 - val_categorical_accuracy: 0.3777\n",
      "Epoch 53/200\n",
      "22967/22967 [==============================] - 2s 82us/sample - loss: 0.4901 - categorical_accuracy: 0.8235 - val_loss: 2.7478 - val_categorical_accuracy: 0.3083\n",
      "Epoch 54/200\n",
      "22967/22967 [==============================] - 2s 85us/sample - loss: 0.4826 - categorical_accuracy: 0.8259 - val_loss: 2.6067 - val_categorical_accuracy: 0.3086\n",
      "Epoch 55/200\n",
      "22967/22967 [==============================] - 2s 85us/sample - loss: 0.4798 - categorical_accuracy: 0.8274 - val_loss: 2.5777 - val_categorical_accuracy: 0.3342\n",
      "Epoch 56/200\n",
      "22967/22967 [==============================] - 2s 87us/sample - loss: 0.4751 - categorical_accuracy: 0.8274 - val_loss: 2.6934 - val_categorical_accuracy: 0.3232\n",
      "Epoch 57/200\n",
      "22967/22967 [==============================] - 2s 83us/sample - loss: 0.4734 - categorical_accuracy: 0.8332 - val_loss: 2.3516 - val_categorical_accuracy: 0.3797\n",
      "Epoch 58/200\n",
      "22967/22967 [==============================] - 2s 82us/sample - loss: 0.4736 - categorical_accuracy: 0.8284 - val_loss: 2.5374 - val_categorical_accuracy: 0.3469\n",
      "Epoch 59/200\n",
      "22967/22967 [==============================] - 2s 82us/sample - loss: 0.4574 - categorical_accuracy: 0.8341 - val_loss: 2.9816 - val_categorical_accuracy: 0.2879\n",
      "Epoch 60/200\n",
      "22967/22967 [==============================] - 2s 82us/sample - loss: 0.4538 - categorical_accuracy: 0.8370 - val_loss: 3.1023 - val_categorical_accuracy: 0.3042\n",
      "Epoch 61/200\n",
      "22967/22967 [==============================] - 2s 83us/sample - loss: 0.4395 - categorical_accuracy: 0.8423 - val_loss: 2.5965 - val_categorical_accuracy: 0.3400\n",
      "Epoch 62/200\n",
      "22967/22967 [==============================] - 2s 85us/sample - loss: 0.4249 - categorical_accuracy: 0.8459 - val_loss: 2.5650 - val_categorical_accuracy: 0.3905\n",
      "Epoch 63/200\n",
      "22967/22967 [==============================] - 2s 84us/sample - loss: 0.4376 - categorical_accuracy: 0.8456 - val_loss: 2.8723 - val_categorical_accuracy: 0.3255\n",
      "Epoch 64/200\n",
      "22967/22967 [==============================] - 2s 84us/sample - loss: 0.4105 - categorical_accuracy: 0.8553 - val_loss: 2.2766 - val_categorical_accuracy: 0.3715\n",
      "Epoch 65/200\n",
      "22967/22967 [==============================] - 2s 83us/sample - loss: 0.4228 - categorical_accuracy: 0.8484 - val_loss: 3.0210 - val_categorical_accuracy: 0.2950\n",
      "Epoch 66/200\n",
      "22967/22967 [==============================] - 2s 84us/sample - loss: 0.4142 - categorical_accuracy: 0.8540 - val_loss: 2.7374 - val_categorical_accuracy: 0.3445\n",
      "Epoch 67/200\n",
      "22967/22967 [==============================] - 2s 81us/sample - loss: 0.4025 - categorical_accuracy: 0.8555 - val_loss: 2.6088 - val_categorical_accuracy: 0.3912\n",
      "Epoch 68/200\n",
      "22967/22967 [==============================] - 2s 83us/sample - loss: 0.3993 - categorical_accuracy: 0.8566 - val_loss: 3.7372 - val_categorical_accuracy: 0.2496\n",
      "Epoch 69/200\n",
      "22967/22967 [==============================] - 2s 82us/sample - loss: 0.3988 - categorical_accuracy: 0.8556 - val_loss: 2.6868 - val_categorical_accuracy: 0.3790\n",
      "Epoch 70/200\n",
      "22967/22967 [==============================] - 2s 82us/sample - loss: 0.3919 - categorical_accuracy: 0.8577 - val_loss: 2.6483 - val_categorical_accuracy: 0.3838\n",
      "Epoch 71/200\n",
      "22967/22967 [==============================] - 2s 84us/sample - loss: 0.3871 - categorical_accuracy: 0.8614 - val_loss: 2.7381 - val_categorical_accuracy: 0.3797\n",
      "Epoch 72/200\n",
      "22967/22967 [==============================] - 2s 84us/sample - loss: 0.3931 - categorical_accuracy: 0.8605 - val_loss: 2.8514 - val_categorical_accuracy: 0.3356\n",
      "Epoch 73/200\n",
      "22967/22967 [==============================] - 2s 84us/sample - loss: 0.3794 - categorical_accuracy: 0.8650 - val_loss: 2.7768 - val_categorical_accuracy: 0.3382\n",
      "Epoch 74/200\n",
      "22967/22967 [==============================] - 2s 84us/sample - loss: 0.3631 - categorical_accuracy: 0.8709 - val_loss: 2.8981 - val_categorical_accuracy: 0.3662\n",
      "Epoch 75/200\n",
      "22967/22967 [==============================] - 2s 83us/sample - loss: 0.3761 - categorical_accuracy: 0.8689 - val_loss: 2.6774 - val_categorical_accuracy: 0.3647\n",
      "Epoch 76/200\n",
      "22967/22967 [==============================] - 2s 85us/sample - loss: 0.3630 - categorical_accuracy: 0.8712 - val_loss: 3.1434 - val_categorical_accuracy: 0.3159\n",
      "Epoch 77/200\n",
      "22967/22967 [==============================] - 2s 83us/sample - loss: 0.3777 - categorical_accuracy: 0.8666 - val_loss: 2.6741 - val_categorical_accuracy: 0.3837\n",
      "Epoch 78/200\n",
      "22967/22967 [==============================] - 2s 84us/sample - loss: 0.3641 - categorical_accuracy: 0.8710 - val_loss: 3.0437 - val_categorical_accuracy: 0.3737\n",
      "Epoch 79/200\n",
      "22967/22967 [==============================] - 2s 84us/sample - loss: 0.3500 - categorical_accuracy: 0.8734 - val_loss: 2.4907 - val_categorical_accuracy: 0.3675\n",
      "Epoch 80/200\n",
      "22967/22967 [==============================] - 2s 84us/sample - loss: 0.3457 - categorical_accuracy: 0.8755 - val_loss: 2.7644 - val_categorical_accuracy: 0.3668\n",
      "Epoch 81/200\n",
      "22967/22967 [==============================] - 2s 83us/sample - loss: 0.3442 - categorical_accuracy: 0.8768 - val_loss: 2.7643 - val_categorical_accuracy: 0.3433\n",
      "Epoch 82/200\n",
      "22967/22967 [==============================] - 2s 83us/sample - loss: 0.3429 - categorical_accuracy: 0.8762 - val_loss: 2.8563 - val_categorical_accuracy: 0.3675\n",
      "Epoch 83/200\n",
      "22967/22967 [==============================] - 2s 82us/sample - loss: 0.3455 - categorical_accuracy: 0.8784 - val_loss: 2.7691 - val_categorical_accuracy: 0.3769\n",
      "Epoch 84/200\n",
      "22967/22967 [==============================] - 2s 84us/sample - loss: 0.3511 - categorical_accuracy: 0.8764 - val_loss: 2.9286 - val_categorical_accuracy: 0.3156\n",
      "Epoch 85/200\n",
      "22967/22967 [==============================] - 2s 86us/sample - loss: 0.3259 - categorical_accuracy: 0.8824 - val_loss: 2.6343 - val_categorical_accuracy: 0.3833\n",
      "Epoch 86/200\n",
      "22967/22967 [==============================] - 2s 82us/sample - loss: 0.3251 - categorical_accuracy: 0.8853 - val_loss: 2.9092 - val_categorical_accuracy: 0.3905\n",
      "Epoch 87/200\n",
      "22967/22967 [==============================] - 2s 84us/sample - loss: 0.3263 - categorical_accuracy: 0.8839 - val_loss: 3.2808 - val_categorical_accuracy: 0.3121\n",
      "Epoch 88/200\n",
      "22967/22967 [==============================] - 2s 84us/sample - loss: 0.3198 - categorical_accuracy: 0.8861 - val_loss: 2.7988 - val_categorical_accuracy: 0.3615\n",
      "Epoch 89/200\n",
      "22967/22967 [==============================] - 2s 83us/sample - loss: 0.3234 - categorical_accuracy: 0.8857 - val_loss: 2.6463 - val_categorical_accuracy: 0.3713\n",
      "Epoch 90/200\n",
      "22967/22967 [==============================] - 2s 84us/sample - loss: 0.3157 - categorical_accuracy: 0.8877 - val_loss: 2.8353 - val_categorical_accuracy: 0.3608\n",
      "Epoch 91/200\n",
      "22967/22967 [==============================] - 2s 81us/sample - loss: 0.3209 - categorical_accuracy: 0.8836 - val_loss: 2.9773 - val_categorical_accuracy: 0.3572\n",
      "Epoch 92/200\n",
      "22967/22967 [==============================] - 2s 82us/sample - loss: 0.3255 - categorical_accuracy: 0.8850 - val_loss: 3.1736 - val_categorical_accuracy: 0.2955\n",
      "Epoch 93/200\n",
      "22967/22967 [==============================] - 2s 82us/sample - loss: 0.3015 - categorical_accuracy: 0.8923 - val_loss: 2.6586 - val_categorical_accuracy: 0.3769\n"
     ]
    },
    {
     "name": "stdout",
     "output_type": "stream",
     "text": [
      "Epoch 94/200\n",
      "22967/22967 [==============================] - 2s 83us/sample - loss: 0.3102 - categorical_accuracy: 0.8900 - val_loss: 3.1909 - val_categorical_accuracy: 0.3586\n",
      "Epoch 95/200\n",
      "22967/22967 [==============================] - 2s 83us/sample - loss: 0.3096 - categorical_accuracy: 0.8902 - val_loss: 3.2444 - val_categorical_accuracy: 0.3170\n",
      "Epoch 96/200\n",
      "22967/22967 [==============================] - 2s 84us/sample - loss: 0.3100 - categorical_accuracy: 0.8889 - val_loss: 3.8277 - val_categorical_accuracy: 0.3130\n",
      "Epoch 97/200\n",
      "22967/22967 [==============================] - 2s 83us/sample - loss: 0.3002 - categorical_accuracy: 0.8920 - val_loss: 3.2202 - val_categorical_accuracy: 0.3697\n",
      "Epoch 98/200\n",
      "22967/22967 [==============================] - 2s 82us/sample - loss: 0.3029 - categorical_accuracy: 0.8948 - val_loss: 2.8789 - val_categorical_accuracy: 0.3868\n",
      "Epoch 99/200\n",
      "22967/22967 [==============================] - 2s 82us/sample - loss: 0.2987 - categorical_accuracy: 0.8938 - val_loss: 2.7004 - val_categorical_accuracy: 0.3858\n",
      "Epoch 100/200\n",
      "22967/22967 [==============================] - 2s 83us/sample - loss: 0.2901 - categorical_accuracy: 0.8992 - val_loss: 2.8760 - val_categorical_accuracy: 0.3467\n",
      "Epoch 101/200\n",
      "22967/22967 [==============================] - 2s 83us/sample - loss: 0.2927 - categorical_accuracy: 0.8985 - val_loss: 2.6623 - val_categorical_accuracy: 0.3906\n",
      "Epoch 102/200\n",
      "22967/22967 [==============================] - 2s 84us/sample - loss: 0.2814 - categorical_accuracy: 0.9011 - val_loss: 2.8730 - val_categorical_accuracy: 0.3595\n",
      "Epoch 103/200\n",
      "22967/22967 [==============================] - 2s 82us/sample - loss: 0.2903 - categorical_accuracy: 0.8976 - val_loss: 2.7857 - val_categorical_accuracy: 0.3905\n",
      "Epoch 104/200\n",
      "22967/22967 [==============================] - 2s 81us/sample - loss: 0.2947 - categorical_accuracy: 0.8949 - val_loss: 3.3433 - val_categorical_accuracy: 0.3302\n",
      "Epoch 105/200\n",
      "22967/22967 [==============================] - 2s 82us/sample - loss: 0.2817 - categorical_accuracy: 0.9009 - val_loss: 3.0375 - val_categorical_accuracy: 0.3817\n",
      "Epoch 106/200\n",
      "22967/22967 [==============================] - 2s 82us/sample - loss: 0.2953 - categorical_accuracy: 0.8968 - val_loss: 2.9748 - val_categorical_accuracy: 0.3967\n",
      "Epoch 107/200\n",
      "22967/22967 [==============================] - 2s 84us/sample - loss: 0.2708 - categorical_accuracy: 0.9066 - val_loss: 3.3015 - val_categorical_accuracy: 0.3929\n",
      "Epoch 108/200\n",
      "22967/22967 [==============================] - 2s 87us/sample - loss: 0.2727 - categorical_accuracy: 0.9063 - val_loss: 3.0944 - val_categorical_accuracy: 0.3466\n",
      "Epoch 109/200\n",
      "22967/22967 [==============================] - 2s 84us/sample - loss: 0.2833 - categorical_accuracy: 0.8999 - val_loss: 2.8851 - val_categorical_accuracy: 0.3462\n",
      "Epoch 110/200\n",
      "22967/22967 [==============================] - 2s 84us/sample - loss: 0.2725 - categorical_accuracy: 0.9035 - val_loss: 3.7640 - val_categorical_accuracy: 0.3339\n",
      "Epoch 111/200\n",
      "22967/22967 [==============================] - 2s 83us/sample - loss: 0.2706 - categorical_accuracy: 0.9056 - val_loss: 3.3668 - val_categorical_accuracy: 0.3443\n",
      "Epoch 112/200\n",
      "22967/22967 [==============================] - 2s 84us/sample - loss: 0.2569 - categorical_accuracy: 0.9101 - val_loss: 2.8895 - val_categorical_accuracy: 0.3473\n",
      "Epoch 113/200\n",
      "22967/22967 [==============================] - 2s 83us/sample - loss: 0.2587 - categorical_accuracy: 0.9098 - val_loss: 3.1675 - val_categorical_accuracy: 0.3584\n",
      "Epoch 114/200\n",
      "22967/22967 [==============================] - 2s 83us/sample - loss: 0.2809 - categorical_accuracy: 0.9014 - val_loss: 3.2259 - val_categorical_accuracy: 0.3657\n",
      "Epoch 115/200\n",
      "22967/22967 [==============================] - 2s 83us/sample - loss: 0.2695 - categorical_accuracy: 0.9081 - val_loss: 3.0968 - val_categorical_accuracy: 0.3661\n",
      "Epoch 116/200\n",
      "22967/22967 [==============================] - 2s 82us/sample - loss: 0.2774 - categorical_accuracy: 0.9023 - val_loss: 3.3753 - val_categorical_accuracy: 0.3346\n",
      "Epoch 117/200\n",
      "22967/22967 [==============================] - 2s 82us/sample - loss: 0.2713 - categorical_accuracy: 0.9077 - val_loss: 3.0392 - val_categorical_accuracy: 0.3939\n",
      "Epoch 118/200\n",
      "22967/22967 [==============================] - 2s 83us/sample - loss: 0.2506 - categorical_accuracy: 0.9132 - val_loss: 3.6781 - val_categorical_accuracy: 0.3741\n",
      "Epoch 119/200\n",
      "22967/22967 [==============================] - 2s 85us/sample - loss: 0.2551 - categorical_accuracy: 0.9081 - val_loss: 3.3631 - val_categorical_accuracy: 0.3831\n",
      "Epoch 120/200\n",
      "22967/22967 [==============================] - 2s 83us/sample - loss: 0.2600 - categorical_accuracy: 0.9076 - val_loss: 3.5185 - val_categorical_accuracy: 0.3088\n",
      "Epoch 121/200\n",
      "22967/22967 [==============================] - 2s 83us/sample - loss: 0.2497 - categorical_accuracy: 0.9114 - val_loss: 3.6259 - val_categorical_accuracy: 0.3225\n",
      "Epoch 122/200\n",
      "22967/22967 [==============================] - 2s 83us/sample - loss: 0.2498 - categorical_accuracy: 0.9105 - val_loss: 3.4420 - val_categorical_accuracy: 0.3643\n",
      "Epoch 123/200\n",
      "22967/22967 [==============================] - 2s 85us/sample - loss: 0.2486 - categorical_accuracy: 0.9146 - val_loss: 4.0695 - val_categorical_accuracy: 0.3152\n",
      "Epoch 124/200\n",
      "22967/22967 [==============================] - 2s 81us/sample - loss: 0.2571 - categorical_accuracy: 0.9129 - val_loss: 2.9659 - val_categorical_accuracy: 0.3555\n",
      "Epoch 125/200\n",
      "22967/22967 [==============================] - 2s 82us/sample - loss: 0.2617 - categorical_accuracy: 0.9086 - val_loss: 3.1344 - val_categorical_accuracy: 0.3650\n",
      "Epoch 126/200\n",
      "22967/22967 [==============================] - 2s 85us/sample - loss: 0.2517 - categorical_accuracy: 0.9130 - val_loss: 3.0418 - val_categorical_accuracy: 0.3649\n",
      "Epoch 127/200\n",
      "22967/22967 [==============================] - 2s 82us/sample - loss: 0.2416 - categorical_accuracy: 0.9144 - val_loss: 2.9046 - val_categorical_accuracy: 0.3683\n",
      "Epoch 128/200\n",
      "22967/22967 [==============================] - 2s 84us/sample - loss: 0.2430 - categorical_accuracy: 0.9158 - val_loss: 2.9125 - val_categorical_accuracy: 0.4086\n",
      "Epoch 129/200\n",
      "22967/22967 [==============================] - 2s 84us/sample - loss: 0.2450 - categorical_accuracy: 0.9130 - val_loss: 2.9496 - val_categorical_accuracy: 0.3649\n",
      "Epoch 130/200\n",
      "22967/22967 [==============================] - 2s 83us/sample - loss: 0.2525 - categorical_accuracy: 0.9127 - val_loss: 2.9713 - val_categorical_accuracy: 0.3715\n",
      "Epoch 131/200\n",
      "22967/22967 [==============================] - 2s 85us/sample - loss: 0.2463 - categorical_accuracy: 0.9127 - val_loss: 2.9564 - val_categorical_accuracy: 0.3715\n",
      "Epoch 132/200\n",
      "22967/22967 [==============================] - 2s 83us/sample - loss: 0.2307 - categorical_accuracy: 0.9178 - val_loss: 3.2328 - val_categorical_accuracy: 0.3962\n",
      "Epoch 133/200\n",
      "22967/22967 [==============================] - 2s 83us/sample - loss: 0.2421 - categorical_accuracy: 0.9146 - val_loss: 2.9799 - val_categorical_accuracy: 0.3966\n",
      "Epoch 134/200\n",
      "22967/22967 [==============================] - 2s 83us/sample - loss: 0.2394 - categorical_accuracy: 0.9152 - val_loss: 3.2621 - val_categorical_accuracy: 0.3823\n",
      "Epoch 135/200\n",
      "22967/22967 [==============================] - 2s 82us/sample - loss: 0.2275 - categorical_accuracy: 0.9205 - val_loss: 3.2244 - val_categorical_accuracy: 0.3422\n",
      "Epoch 136/200\n",
      "22967/22967 [==============================] - 2s 83us/sample - loss: 0.2281 - categorical_accuracy: 0.9175 - val_loss: 3.5052 - val_categorical_accuracy: 0.3476\n",
      "Epoch 137/200\n",
      "22967/22967 [==============================] - 2s 82us/sample - loss: 0.2435 - categorical_accuracy: 0.9167 - val_loss: 3.0077 - val_categorical_accuracy: 0.3607\n",
      "Epoch 138/200\n",
      "22967/22967 [==============================] - 2s 83us/sample - loss: 0.2320 - categorical_accuracy: 0.9184 - val_loss: 3.1262 - val_categorical_accuracy: 0.3746\n",
      "Epoch 139/200\n",
      "22967/22967 [==============================] - 2s 83us/sample - loss: 0.2253 - categorical_accuracy: 0.9210 - val_loss: 3.3745 - val_categorical_accuracy: 0.3720\n",
      "Epoch 140/200\n"
     ]
    },
    {
     "name": "stdout",
     "output_type": "stream",
     "text": [
      "22967/22967 [==============================] - 2s 82us/sample - loss: 0.2343 - categorical_accuracy: 0.9174 - val_loss: 3.6940 - val_categorical_accuracy: 0.3649\n",
      "Epoch 141/200\n",
      "22967/22967 [==============================] - 2s 82us/sample - loss: 0.2378 - categorical_accuracy: 0.9187 - val_loss: 4.1078 - val_categorical_accuracy: 0.3337\n",
      "Epoch 142/200\n",
      "22967/22967 [==============================] - 2s 87us/sample - loss: 0.2239 - categorical_accuracy: 0.9225 - val_loss: 2.9593 - val_categorical_accuracy: 0.3938\n",
      "Epoch 143/200\n",
      "22967/22967 [==============================] - 2s 85us/sample - loss: 0.2321 - categorical_accuracy: 0.9184 - val_loss: 3.7729 - val_categorical_accuracy: 0.3457\n",
      "Epoch 144/200\n",
      "22967/22967 [==============================] - 2s 84us/sample - loss: 0.2220 - categorical_accuracy: 0.9216 - val_loss: 3.6895 - val_categorical_accuracy: 0.3394\n",
      "Epoch 145/200\n",
      "22967/22967 [==============================] - 2s 83us/sample - loss: 0.2275 - categorical_accuracy: 0.9203 - val_loss: 3.3712 - val_categorical_accuracy: 0.3736\n",
      "Epoch 146/200\n",
      "22967/22967 [==============================] - 2s 83us/sample - loss: 0.2160 - categorical_accuracy: 0.9242 - val_loss: 2.9935 - val_categorical_accuracy: 0.3971\n",
      "Epoch 147/200\n",
      "22967/22967 [==============================] - 2s 85us/sample - loss: 0.2167 - categorical_accuracy: 0.9229 - val_loss: 3.2200 - val_categorical_accuracy: 0.4115\n",
      "Epoch 148/200\n",
      "22967/22967 [==============================] - 2s 83us/sample - loss: 0.2204 - categorical_accuracy: 0.9232 - val_loss: 3.2325 - val_categorical_accuracy: 0.3960\n",
      "Epoch 149/200\n",
      "22967/22967 [==============================] - 2s 82us/sample - loss: 0.2391 - categorical_accuracy: 0.9169 - val_loss: 3.2926 - val_categorical_accuracy: 0.3377\n",
      "Epoch 150/200\n",
      "22967/22967 [==============================] - 2s 81us/sample - loss: 0.2126 - categorical_accuracy: 0.9260 - val_loss: 3.1157 - val_categorical_accuracy: 0.3823\n",
      "Epoch 151/200\n",
      "22967/22967 [==============================] - 2s 81us/sample - loss: 0.2260 - categorical_accuracy: 0.9205 - val_loss: 3.4102 - val_categorical_accuracy: 0.3720\n",
      "Epoch 152/200\n",
      "22967/22967 [==============================] - 2s 81us/sample - loss: 0.2063 - categorical_accuracy: 0.9280 - val_loss: 3.5962 - val_categorical_accuracy: 0.3741\n",
      "Epoch 153/200\n",
      "22967/22967 [==============================] - 2s 83us/sample - loss: 0.2068 - categorical_accuracy: 0.9280 - val_loss: 3.4205 - val_categorical_accuracy: 0.3931\n",
      "Epoch 154/200\n",
      "22967/22967 [==============================] - 2s 84us/sample - loss: 0.2033 - categorical_accuracy: 0.9291 - val_loss: 3.6069 - val_categorical_accuracy: 0.3945\n",
      "Epoch 155/200\n",
      "22967/22967 [==============================] - 2s 84us/sample - loss: 0.2173 - categorical_accuracy: 0.9234 - val_loss: 3.3146 - val_categorical_accuracy: 0.3272\n",
      "Epoch 156/200\n",
      "22967/22967 [==============================] - 2s 83us/sample - loss: 0.2213 - categorical_accuracy: 0.9244 - val_loss: 3.5501 - val_categorical_accuracy: 0.3861\n",
      "Epoch 157/200\n",
      "22967/22967 [==============================] - 2s 83us/sample - loss: 0.2137 - categorical_accuracy: 0.9252 - val_loss: 3.2385 - val_categorical_accuracy: 0.3859\n",
      "Epoch 158/200\n",
      "22967/22967 [==============================] - 2s 84us/sample - loss: 0.2148 - categorical_accuracy: 0.9267 - val_loss: 3.2074 - val_categorical_accuracy: 0.3589\n",
      "Epoch 159/200\n",
      "22967/22967 [==============================] - 2s 84us/sample - loss: 0.2096 - categorical_accuracy: 0.9269 - val_loss: 3.6427 - val_categorical_accuracy: 0.3448\n",
      "Epoch 160/200\n",
      "22967/22967 [==============================] - 2s 83us/sample - loss: 0.2112 - categorical_accuracy: 0.9264 - val_loss: 3.3392 - val_categorical_accuracy: 0.3741\n",
      "Epoch 161/200\n",
      "22967/22967 [==============================] - 2s 83us/sample - loss: 0.2111 - categorical_accuracy: 0.9263 - val_loss: 2.8305 - val_categorical_accuracy: 0.3878\n",
      "Epoch 162/200\n",
      "22967/22967 [==============================] - 2s 83us/sample - loss: 0.2153 - categorical_accuracy: 0.9262 - val_loss: 3.0550 - val_categorical_accuracy: 0.3863\n",
      "Epoch 163/200\n",
      "22967/22967 [==============================] - 2s 81us/sample - loss: 0.2020 - categorical_accuracy: 0.9292 - val_loss: 4.3287 - val_categorical_accuracy: 0.3528\n",
      "Epoch 164/200\n",
      "22967/22967 [==============================] - 2s 83us/sample - loss: 0.2067 - categorical_accuracy: 0.9277 - val_loss: 3.5133 - val_categorical_accuracy: 0.3696\n",
      "Epoch 165/200\n",
      "22967/22967 [==============================] - 2s 84us/sample - loss: 0.1971 - categorical_accuracy: 0.9308 - val_loss: 3.5470 - val_categorical_accuracy: 0.3570\n",
      "Epoch 166/200\n",
      "22967/22967 [==============================] - 2s 82us/sample - loss: 0.2057 - categorical_accuracy: 0.9279 - val_loss: 3.4860 - val_categorical_accuracy: 0.3715\n",
      "Epoch 167/200\n",
      "22967/22967 [==============================] - 2s 85us/sample - loss: 0.1995 - categorical_accuracy: 0.9315 - val_loss: 3.7548 - val_categorical_accuracy: 0.3440\n",
      "Epoch 168/200\n",
      "22967/22967 [==============================] - 2s 83us/sample - loss: 0.2066 - categorical_accuracy: 0.9286 - val_loss: 3.4834 - val_categorical_accuracy: 0.3710\n",
      "Epoch 169/200\n",
      "22967/22967 [==============================] - 2s 84us/sample - loss: 0.2019 - categorical_accuracy: 0.9303 - val_loss: 3.4347 - val_categorical_accuracy: 0.3640\n",
      "Epoch 170/200\n",
      "22967/22967 [==============================] - 2s 85us/sample - loss: 0.2021 - categorical_accuracy: 0.9291 - val_loss: 3.1501 - val_categorical_accuracy: 0.4046\n",
      "Epoch 171/200\n",
      "22967/22967 [==============================] - 2s 83us/sample - loss: 0.1971 - categorical_accuracy: 0.9325 - val_loss: 3.1890 - val_categorical_accuracy: 0.3617\n",
      "Epoch 172/200\n",
      "22967/22967 [==============================] - 2s 80us/sample - loss: 0.1867 - categorical_accuracy: 0.9336 - val_loss: 3.4753 - val_categorical_accuracy: 0.3502\n",
      "Epoch 173/200\n",
      "22967/22967 [==============================] - 2s 81us/sample - loss: 0.2082 - categorical_accuracy: 0.9274 - val_loss: 3.6161 - val_categorical_accuracy: 0.3732\n",
      "Epoch 174/200\n",
      "22967/22967 [==============================] - 2s 81us/sample - loss: 0.1974 - categorical_accuracy: 0.9332 - val_loss: 3.3416 - val_categorical_accuracy: 0.3821\n",
      "Epoch 175/200\n",
      "22967/22967 [==============================] - 2s 81us/sample - loss: 0.1947 - categorical_accuracy: 0.9318 - val_loss: 3.2938 - val_categorical_accuracy: 0.3924\n",
      "Epoch 176/200\n",
      "22967/22967 [==============================] - 2s 81us/sample - loss: 0.2056 - categorical_accuracy: 0.9288 - val_loss: 4.1441 - val_categorical_accuracy: 0.3213\n",
      "Epoch 177/200\n",
      "22967/22967 [==============================] - 2s 83us/sample - loss: 0.1930 - categorical_accuracy: 0.9327 - val_loss: 2.8277 - val_categorical_accuracy: 0.3920\n",
      "Epoch 178/200\n",
      "22967/22967 [==============================] - 2s 83us/sample - loss: 0.1965 - categorical_accuracy: 0.9298 - val_loss: 3.2897 - val_categorical_accuracy: 0.3999\n",
      "Epoch 179/200\n",
      "22967/22967 [==============================] - 2s 82us/sample - loss: 0.1902 - categorical_accuracy: 0.9336 - val_loss: 4.0638 - val_categorical_accuracy: 0.3487\n",
      "Epoch 180/200\n",
      "22967/22967 [==============================] - 2s 85us/sample - loss: 0.1932 - categorical_accuracy: 0.9333 - val_loss: 3.2354 - val_categorical_accuracy: 0.3845\n",
      "Epoch 181/200\n",
      "22967/22967 [==============================] - 2s 83us/sample - loss: 0.1962 - categorical_accuracy: 0.9319 - val_loss: 3.2630 - val_categorical_accuracy: 0.3454\n",
      "Epoch 182/200\n",
      "22967/22967 [==============================] - 2s 88us/sample - loss: 0.1908 - categorical_accuracy: 0.9344 - val_loss: 3.4471 - val_categorical_accuracy: 0.3659\n",
      "Epoch 183/200\n",
      "22967/22967 [==============================] - 2s 85us/sample - loss: 0.1928 - categorical_accuracy: 0.9327 - val_loss: 3.5742 - val_categorical_accuracy: 0.3972\n",
      "Epoch 184/200\n",
      "22967/22967 [==============================] - 2s 85us/sample - loss: 0.1884 - categorical_accuracy: 0.9343 - val_loss: 3.4415 - val_categorical_accuracy: 0.4011\n",
      "Epoch 185/200\n",
      "22967/22967 [==============================] - 2s 84us/sample - loss: 0.1942 - categorical_accuracy: 0.9326 - val_loss: 3.5624 - val_categorical_accuracy: 0.3710\n",
      "Epoch 186/200\n"
     ]
    },
    {
     "name": "stdout",
     "output_type": "stream",
     "text": [
      "22967/22967 [==============================] - 2s 84us/sample - loss: 0.1876 - categorical_accuracy: 0.9346 - val_loss: 3.6487 - val_categorical_accuracy: 0.3788\n",
      "Epoch 187/200\n",
      "22967/22967 [==============================] - 2s 85us/sample - loss: 0.1881 - categorical_accuracy: 0.9362 - val_loss: 3.6922 - val_categorical_accuracy: 0.3436\n",
      "Epoch 188/200\n",
      "22967/22967 [==============================] - 2s 83us/sample - loss: 0.1869 - categorical_accuracy: 0.9349 - val_loss: 3.3771 - val_categorical_accuracy: 0.3541\n",
      "Epoch 189/200\n",
      "22967/22967 [==============================] - 2s 81us/sample - loss: 0.1833 - categorical_accuracy: 0.9359 - val_loss: 3.7584 - val_categorical_accuracy: 0.3941\n",
      "Epoch 190/200\n",
      "22967/22967 [==============================] - 2s 81us/sample - loss: 0.1839 - categorical_accuracy: 0.9385 - val_loss: 3.2746 - val_categorical_accuracy: 0.3837\n",
      "Epoch 191/200\n",
      "22967/22967 [==============================] - 2s 81us/sample - loss: 0.1921 - categorical_accuracy: 0.9332 - val_loss: 3.6778 - val_categorical_accuracy: 0.3661\n",
      "Epoch 192/200\n",
      "22967/22967 [==============================] - 2s 81us/sample - loss: 0.1869 - categorical_accuracy: 0.9348 - val_loss: 3.4958 - val_categorical_accuracy: 0.3680\n",
      "Epoch 193/200\n",
      "22967/22967 [==============================] - 2s 81us/sample - loss: 0.1768 - categorical_accuracy: 0.9395 - val_loss: 4.0463 - val_categorical_accuracy: 0.3368\n",
      "Epoch 194/200\n",
      "22967/22967 [==============================] - 2s 81us/sample - loss: 0.1782 - categorical_accuracy: 0.9374 - val_loss: 3.6865 - val_categorical_accuracy: 0.3619\n",
      "Epoch 195/200\n",
      "22967/22967 [==============================] - 2s 83us/sample - loss: 0.1811 - categorical_accuracy: 0.9373 - val_loss: 3.2088 - val_categorical_accuracy: 0.3828\n",
      "Epoch 196/200\n",
      "22967/22967 [==============================] - 2s 83us/sample - loss: 0.1848 - categorical_accuracy: 0.9361 - val_loss: 3.7906 - val_categorical_accuracy: 0.3649\n",
      "Epoch 197/200\n",
      "22967/22967 [==============================] - 2s 83us/sample - loss: 0.1850 - categorical_accuracy: 0.9361 - val_loss: 3.5886 - val_categorical_accuracy: 0.3770\n",
      "Epoch 198/200\n",
      "22967/22967 [==============================] - 2s 82us/sample - loss: 0.1774 - categorical_accuracy: 0.9378 - val_loss: 3.1092 - val_categorical_accuracy: 0.4087\n",
      "Epoch 199/200\n",
      "22967/22967 [==============================] - 2s 82us/sample - loss: 0.1786 - categorical_accuracy: 0.9376 - val_loss: 3.2679 - val_categorical_accuracy: 0.3699\n",
      "Epoch 200/200\n",
      "22967/22967 [==============================] - 2s 82us/sample - loss: 0.1808 - categorical_accuracy: 0.9367 - val_loss: 3.7623 - val_categorical_accuracy: 0.3586\n"
     ]
    }
   ],
   "source": [
    "history = model.fit(X_train, y_train, batch_size=100, epochs=200, validation_split=0.2) "
   ]
  },
  {
   "cell_type": "code",
   "execution_count": 81,
   "metadata": {},
   "outputs": [
    {
     "name": "stdout",
     "output_type": "stream",
     "text": [
      "3589/3589 [==============================] - 0s 28us/sample - loss: 3.8653 - categorical_accuracy: 0.3697\n",
      "loss (cross-entropy) : 3.8653110639402612\n",
      "test accuracy : 0.36974087\n"
     ]
    }
   ],
   "source": [
    "result = model.evaluate(X_test, y_test, batch_size=64)\n",
    "\n",
    "print('loss (cross-entropy) :', result[0])\n",
    "print('test accuracy :', result[1])"
   ]
  },
  {
   "cell_type": "code",
   "execution_count": 82,
   "metadata": {},
   "outputs": [
    {
     "data": {
      "text/plain": [
       "dict_keys(['loss', 'categorical_accuracy', 'val_loss', 'val_categorical_accuracy'])"
      ]
     },
     "execution_count": 82,
     "metadata": {},
     "output_type": "execute_result"
    }
   ],
   "source": [
    "history.history.keys()"
   ]
  },
  {
   "cell_type": "code",
   "execution_count": 83,
   "metadata": {},
   "outputs": [
    {
     "data": {
      "image/png": "[encoded data removed]",
      "text/plain": [
       "<Figure size 1080x720 with 1 Axes>"
      ]
     },
     "metadata": {
      "needs_background": "light"
     },
     "output_type": "display_data"
    }
   ],
   "source": [
    "val_acc = history.history['val_categorical_accuracy']\n",
    "acc = history.history['categorical_accuracy']\n",
    "\n",
    "import numpy as np\n",
    "import matplotlib.pyplot as plt\n",
    "\n",
    "x_len = np.arange(len(acc))\n",
    "plt.plot(x_len, acc, marker='.', c='blue', label=\"Train-set Acc.\")\n",
    "plt.plot(x_len, val_acc, marker='.', c='red', label=\"Validation-set Acc.\")\n",
    "\n",
    "plt.legend(loc='lower right')\n",
    "plt.grid()\n",
    "plt.xlabel('epoch')\n",
    "plt.ylabel('Accuracy')\n",
    "plt.show()"
   ]
  },
  {
   "cell_type": "code",
   "execution_count": null,
   "metadata": {},
   "outputs": [],
   "source": []
  }
 ],
 "metadata": {
  "kernelspec": {
   "display_name": "Python 3",
   "language": "python",
   "name": "python3"
  },
  "language_info": {
   "codemirror_mode": {
    "name": "ipython",
    "version": 3
   },
   "file_extension": ".py",
   "mimetype": "text/x-python",
   "name": "python",
   "nbconvert_exporter": "python",
   "pygments_lexer": "ipython3",
   "version": "3.7.3"
  }
 },
 "nbformat": 4,
 "nbformat_minor": 2
}
