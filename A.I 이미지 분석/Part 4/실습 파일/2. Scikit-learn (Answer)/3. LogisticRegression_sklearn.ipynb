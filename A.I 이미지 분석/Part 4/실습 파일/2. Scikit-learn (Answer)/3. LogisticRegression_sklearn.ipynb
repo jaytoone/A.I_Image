{
 "cells": [
  {
   "cell_type": "code",
   "execution_count": 10,
   "metadata": {},
   "outputs": [],
   "source": [
    "import numpy as np\n",
    "import pandas as pd\n",
    "import matplotlib.pyplot as plt\n",
    "\n",
    "from sklearn import datasets, model_selection, linear_model\n",
    "from sklearn.metrics import mean_squared_error"
   ]
  },
  {
   "cell_type": "markdown",
   "metadata": {},
   "source": [
    "<br>\n",
    "<br>\n",
    "\n",
    "#### 1-1. (미국 보스턴의 주택 가격) 데이터 읽어들이기 & Binary label 만들어주기"
   ]
  },
  {
   "cell_type": "code",
   "execution_count": 11,
   "metadata": {},
   "outputs": [
    {
     "data": {
      "text/html": [
       "<div>\n",
       "<style scoped>\n",
       "    .dataframe tbody tr th:only-of-type {\n",
       "        vertical-align: middle;\n",
       "    }\n",
       "\n",
       "    .dataframe tbody tr th {\n",
       "        vertical-align: top;\n",
       "    }\n",
       "\n",
       "    .dataframe thead th {\n",
       "        text-align: right;\n",
       "    }\n",
       "</style>\n",
       "<table border=\"1\" class=\"dataframe\">\n",
       "  <thead>\n",
       "    <tr style=\"text-align: right;\">\n",
       "      <th></th>\n",
       "      <th>0</th>\n",
       "      <th>1</th>\n",
       "      <th>2</th>\n",
       "      <th>3</th>\n",
       "      <th>4</th>\n",
       "      <th>5</th>\n",
       "      <th>6</th>\n",
       "      <th>7</th>\n",
       "      <th>8</th>\n",
       "      <th>9</th>\n",
       "      <th>10</th>\n",
       "      <th>11</th>\n",
       "      <th>12</th>\n",
       "    </tr>\n",
       "  </thead>\n",
       "  <tbody>\n",
       "    <tr>\n",
       "      <th>0</th>\n",
       "      <td>0.00632</td>\n",
       "      <td>18.0</td>\n",
       "      <td>2.31</td>\n",
       "      <td>0</td>\n",
       "      <td>0.538</td>\n",
       "      <td>6.575</td>\n",
       "      <td>65.2</td>\n",
       "      <td>4.0900</td>\n",
       "      <td>1</td>\n",
       "      <td>296</td>\n",
       "      <td>15.3</td>\n",
       "      <td>396.90</td>\n",
       "      <td>4.98</td>\n",
       "    </tr>\n",
       "    <tr>\n",
       "      <th>1</th>\n",
       "      <td>0.02731</td>\n",
       "      <td>0.0</td>\n",
       "      <td>7.07</td>\n",
       "      <td>0</td>\n",
       "      <td>0.469</td>\n",
       "      <td>6.421</td>\n",
       "      <td>78.9</td>\n",
       "      <td>4.9671</td>\n",
       "      <td>2</td>\n",
       "      <td>242</td>\n",
       "      <td>17.8</td>\n",
       "      <td>396.90</td>\n",
       "      <td>9.14</td>\n",
       "    </tr>\n",
       "    <tr>\n",
       "      <th>2</th>\n",
       "      <td>0.02729</td>\n",
       "      <td>0.0</td>\n",
       "      <td>7.07</td>\n",
       "      <td>0</td>\n",
       "      <td>0.469</td>\n",
       "      <td>7.185</td>\n",
       "      <td>61.1</td>\n",
       "      <td>4.9671</td>\n",
       "      <td>2</td>\n",
       "      <td>242</td>\n",
       "      <td>17.8</td>\n",
       "      <td>392.83</td>\n",
       "      <td>4.03</td>\n",
       "    </tr>\n",
       "    <tr>\n",
       "      <th>3</th>\n",
       "      <td>0.03237</td>\n",
       "      <td>0.0</td>\n",
       "      <td>2.18</td>\n",
       "      <td>0</td>\n",
       "      <td>0.458</td>\n",
       "      <td>6.998</td>\n",
       "      <td>45.8</td>\n",
       "      <td>6.0622</td>\n",
       "      <td>3</td>\n",
       "      <td>222</td>\n",
       "      <td>18.7</td>\n",
       "      <td>394.63</td>\n",
       "      <td>2.94</td>\n",
       "    </tr>\n",
       "    <tr>\n",
       "      <th>4</th>\n",
       "      <td>0.06905</td>\n",
       "      <td>0.0</td>\n",
       "      <td>2.18</td>\n",
       "      <td>0</td>\n",
       "      <td>0.458</td>\n",
       "      <td>7.147</td>\n",
       "      <td>54.2</td>\n",
       "      <td>6.0622</td>\n",
       "      <td>3</td>\n",
       "      <td>222</td>\n",
       "      <td>18.7</td>\n",
       "      <td>396.90</td>\n",
       "      <td>5.33</td>\n",
       "    </tr>\n",
       "  </tbody>\n",
       "</table>\n",
       "</div>"
      ],
      "text/plain": [
       "        0     1     2   3      4      5     6       7   8    9     10      11  \\\n",
       "0  0.00632  18.0  2.31   0  0.538  6.575  65.2  4.0900   1  296  15.3  396.90   \n",
       "1  0.02731   0.0  7.07   0  0.469  6.421  78.9  4.9671   2  242  17.8  396.90   \n",
       "2  0.02729   0.0  7.07   0  0.469  7.185  61.1  4.9671   2  242  17.8  392.83   \n",
       "3  0.03237   0.0  2.18   0  0.458  6.998  45.8  6.0622   3  222  18.7  394.63   \n",
       "4  0.06905   0.0  2.18   0  0.458  7.147  54.2  6.0622   3  222  18.7  396.90   \n",
       "\n",
       "     12  \n",
       "0  4.98  \n",
       "1  9.14  \n",
       "2  4.03  \n",
       "3  2.94  \n",
       "4  5.33  "
      ]
     },
     "execution_count": 11,
     "metadata": {},
     "output_type": "execute_result"
    }
   ],
   "source": [
    "df_data = pd.read_excel('boston_house_data.xlsx', index_col=0, encoding='utf-8')\n",
    "df_data.head()"
   ]
  },
  {
   "cell_type": "code",
   "execution_count": 12,
   "metadata": {},
   "outputs": [
    {
     "data": {
      "text/html": [
       "<div>\n",
       "<style scoped>\n",
       "    .dataframe tbody tr th:only-of-type {\n",
       "        vertical-align: middle;\n",
       "    }\n",
       "\n",
       "    .dataframe tbody tr th {\n",
       "        vertical-align: top;\n",
       "    }\n",
       "\n",
       "    .dataframe thead th {\n",
       "        text-align: right;\n",
       "    }\n",
       "</style>\n",
       "<table border=\"1\" class=\"dataframe\">\n",
       "  <thead>\n",
       "    <tr style=\"text-align: right;\">\n",
       "      <th></th>\n",
       "      <th>0</th>\n",
       "    </tr>\n",
       "  </thead>\n",
       "  <tbody>\n",
       "    <tr>\n",
       "      <th>0</th>\n",
       "      <td>24.0</td>\n",
       "    </tr>\n",
       "    <tr>\n",
       "      <th>1</th>\n",
       "      <td>21.6</td>\n",
       "    </tr>\n",
       "    <tr>\n",
       "      <th>2</th>\n",
       "      <td>34.7</td>\n",
       "    </tr>\n",
       "    <tr>\n",
       "      <th>3</th>\n",
       "      <td>33.4</td>\n",
       "    </tr>\n",
       "    <tr>\n",
       "      <th>4</th>\n",
       "      <td>36.2</td>\n",
       "    </tr>\n",
       "  </tbody>\n",
       "</table>\n",
       "</div>"
      ],
      "text/plain": [
       "      0\n",
       "0  24.0\n",
       "1  21.6\n",
       "2  34.7\n",
       "3  33.4\n",
       "4  36.2"
      ]
     },
     "execution_count": 12,
     "metadata": {},
     "output_type": "execute_result"
    }
   ],
   "source": [
    "df_target = pd.read_excel('boston_house_target.xlsx', index_col=0, encoding='utf-8')\n",
    "df_target.head()"
   ]
  },
  {
   "cell_type": "code",
   "execution_count": 13,
   "metadata": {},
   "outputs": [
    {
     "data": {
      "text/plain": [
       "22.532806324110698"
      ]
     },
     "execution_count": 13,
     "metadata": {},
     "output_type": "execute_result"
    }
   ],
   "source": [
    "# 집값의 평균값이 얼마일까요?\n",
    "\n",
    "mean_price = df_target[0].mean()\n",
    "mean_price"
   ]
  },
  {
   "cell_type": "code",
   "execution_count": 14,
   "metadata": {},
   "outputs": [
    {
     "data": {
      "text/html": [
       "<div>\n",
       "<style scoped>\n",
       "    .dataframe tbody tr th:only-of-type {\n",
       "        vertical-align: middle;\n",
       "    }\n",
       "\n",
       "    .dataframe tbody tr th {\n",
       "        vertical-align: top;\n",
       "    }\n",
       "\n",
       "    .dataframe thead th {\n",
       "        text-align: right;\n",
       "    }\n",
       "</style>\n",
       "<table border=\"1\" class=\"dataframe\">\n",
       "  <thead>\n",
       "    <tr style=\"text-align: right;\">\n",
       "      <th></th>\n",
       "      <th>0</th>\n",
       "      <th>Label</th>\n",
       "    </tr>\n",
       "  </thead>\n",
       "  <tbody>\n",
       "    <tr>\n",
       "      <th>0</th>\n",
       "      <td>24.0</td>\n",
       "      <td>1</td>\n",
       "    </tr>\n",
       "    <tr>\n",
       "      <th>1</th>\n",
       "      <td>21.6</td>\n",
       "      <td>0</td>\n",
       "    </tr>\n",
       "    <tr>\n",
       "      <th>2</th>\n",
       "      <td>34.7</td>\n",
       "      <td>1</td>\n",
       "    </tr>\n",
       "    <tr>\n",
       "      <th>3</th>\n",
       "      <td>33.4</td>\n",
       "      <td>1</td>\n",
       "    </tr>\n",
       "    <tr>\n",
       "      <th>4</th>\n",
       "      <td>36.2</td>\n",
       "      <td>1</td>\n",
       "    </tr>\n",
       "  </tbody>\n",
       "</table>\n",
       "</div>"
      ],
      "text/plain": [
       "      0  Label\n",
       "0  24.0      1\n",
       "1  21.6      0\n",
       "2  34.7      1\n",
       "3  33.4      1\n",
       "4  36.2      1"
      ]
     },
     "execution_count": 14,
     "metadata": {},
     "output_type": "execute_result"
    }
   ],
   "source": [
    "df_target['Label'] = df_target[0].apply(lambda x: 1 if x > mean_price else 0 ) # 새로운 함수를 '적용'해주려면?\n",
    "df_target.head()"
   ]
  },
  {
   "cell_type": "markdown",
   "metadata": {},
   "source": [
    "<br>\n",
    "<br>\n",
    "\n",
    "#### 1-2. Dataframe 을 Numpy array (배열, 행렬)로 바꿔주기"
   ]
  },
  {
   "cell_type": "code",
   "execution_count": 15,
   "metadata": {},
   "outputs": [],
   "source": [
    "boston_data = np.array(df_data)\n",
    "boston_target = np.array(df_target['Label'])"
   ]
  },
  {
   "cell_type": "code",
   "execution_count": 16,
   "metadata": {},
   "outputs": [
    {
     "data": {
      "text/plain": [
       "array([1, 0, 1, 1, 1, 1, 1, 1, 0, 0, 0, 0, 0, 0, 0, 0, 1, 0, 0, 0, 0, 0,\n",
       "       0, 0, 0, 0, 0, 0, 0, 0, 0, 0, 0, 0, 0, 0, 0, 0, 1, 1, 1, 1, 1, 1,\n",
       "       0, 0, 0, 0, 0, 0, 0, 0, 1, 1, 0, 1, 1, 1, 1, 0, 0, 0, 0, 1, 1, 1,\n",
       "       0, 0, 0, 0, 1, 0, 1, 1, 1, 0, 0, 0, 0, 0, 1, 1, 1, 1, 1, 1, 0, 0,\n",
       "       1, 1, 1, 0, 1, 1, 0, 1, 0, 1, 1, 1, 1, 1, 0, 0, 0, 0, 0, 0, 0, 0,\n",
       "       0, 1, 0, 0, 0, 0, 0, 0, 0, 0, 0, 0, 0, 0, 0, 0, 0, 0, 0, 0, 0, 0,\n",
       "       1, 0, 0, 0, 0, 0, 0, 0, 0, 0, 0, 0, 0, 0, 0, 0, 0, 0, 0, 0, 0, 0,\n",
       "       0, 0, 0, 1, 1, 1, 1, 1, 1, 1, 1, 1, 1, 1, 1, 0, 0, 0, 1, 1, 1, 1,\n",
       "       1, 1, 1, 1, 1, 1, 1, 1, 1, 1, 1, 1, 1, 1, 1, 1, 1, 1, 1, 1, 1, 1,\n",
       "       1, 1, 1, 1, 1, 1, 1, 1, 1, 0, 1, 0, 0, 0, 0, 1, 1, 1, 1, 1, 0, 1,\n",
       "       1, 0, 1, 1, 1, 1, 1, 1, 1, 1, 1, 1, 1, 1, 1, 1, 1, 1, 1, 1, 0, 0,\n",
       "       0, 1, 0, 0, 1, 0, 1, 1, 1, 1, 1, 1, 0, 0, 1, 1, 1, 1, 1, 1, 1, 1,\n",
       "       1, 1, 1, 1, 1, 0, 0, 1, 1, 1, 1, 1, 1, 1, 1, 1, 1, 1, 1, 1, 1, 0,\n",
       "       0, 1, 0, 1, 1, 1, 1, 1, 0, 1, 1, 0, 0, 1, 1, 0, 1, 1, 1, 1, 1, 1,\n",
       "       1, 0, 0, 0, 0, 0, 1, 0, 0, 0, 1, 0, 1, 1, 0, 0, 1, 1, 1, 0, 0, 1,\n",
       "       0, 0, 0, 0, 0, 0, 0, 0, 0, 0, 0, 1, 0, 1, 1, 0, 0, 1, 1, 1, 1, 1,\n",
       "       0, 1, 0, 0, 0, 0, 1, 1, 1, 0, 0, 0, 0, 1, 0, 1, 1, 1, 1, 1, 1, 0,\n",
       "       0, 0, 0, 0, 0, 0, 0, 0, 0, 0, 0, 0, 0, 0, 0, 0, 0, 1, 0, 0, 0, 0,\n",
       "       0, 0, 0, 0, 0, 0, 0, 0, 0, 0, 0, 1, 0, 1, 0, 0, 0, 0, 0, 0, 0, 0,\n",
       "       0, 0, 0, 0, 0, 0, 0, 0, 0, 0, 0, 0, 0, 0, 0, 0, 0, 0, 0, 0, 0, 0,\n",
       "       0, 0, 0, 0, 0, 0, 0, 0, 0, 0, 0, 0, 0, 0, 0, 0, 0, 0, 0, 0, 0, 0,\n",
       "       0, 0, 0, 0, 0, 0, 0, 0, 0, 0, 1, 1, 0, 0, 0, 0, 0, 0, 1, 1, 1, 0,\n",
       "       0, 0, 0, 0, 0, 0, 0, 0, 0, 0, 1, 1, 0, 0, 0, 0, 0, 0, 0, 1, 0, 0],\n",
       "      dtype=int64)"
      ]
     },
     "execution_count": 16,
     "metadata": {},
     "output_type": "execute_result"
    }
   ],
   "source": [
    "boston_target"
   ]
  },
  {
   "cell_type": "markdown",
   "metadata": {},
   "source": [
    "<br>\n",
    "<br>\n",
    "\n",
    "#### 2. Feature 선택하기"
   ]
  },
  {
   "cell_type": "markdown",
   "metadata": {},
   "source": [
    "- 0 : **범죄율**\n",
    "- 1 : **25,000 평방피트를 초과하는 거주지역 비율**\n",
    "- 2 : **비소매상업지역 면적 비율** \n",
    "- 3 : **찰스강의 경계에 위치한 경우는 1, 아니면 0**\n",
    "- 4 : **일산화질소 농도**\n",
    "- 5 : **주택당 방 수 (거실 외 subroom)**\n",
    "- 6 : **1940년 이전에 건축된 주택의 비율**\n",
    "- 7 : **직업센터의 거리**\n",
    "- 8 : **방사형 고속도로까지의 거리**\n",
    "- 9 : **재산세율**\n",
    "- 10 : **학생/교사 비율**\n",
    "- 11 : **인구 중 흑인 비율**\n",
    "- 12 : **인구 중 하위 계층 비율**"
   ]
  },
  {
   "cell_type": "code",
   "execution_count": 17,
   "metadata": {},
   "outputs": [
    {
     "data": {
      "text/plain": [
       "array([[6.575, 4.98 ],\n",
       "       [6.421, 9.14 ],\n",
       "       [7.185, 4.03 ],\n",
       "       ...,\n",
       "       [6.976, 5.64 ],\n",
       "       [6.794, 6.48 ],\n",
       "       [6.03 , 7.88 ]])"
      ]
     },
     "execution_count": 17,
     "metadata": {},
     "output_type": "execute_result"
    }
   ],
   "source": [
    "# Use only one feature \n",
    "\n",
    "boston_X = boston_data[:,(5, 12)] # 주택당 방 수 & 인구 중 하위 계층 비율 \n",
    "boston_X"
   ]
  },
  {
   "cell_type": "code",
   "execution_count": 18,
   "metadata": {},
   "outputs": [],
   "source": [
    "boston_Y = boston_target"
   ]
  },
  {
   "cell_type": "markdown",
   "metadata": {},
   "source": [
    "<br>\n",
    "<br>\n",
    "\n",
    "#### 3. Training & Test set 으로 나눠주기"
   ]
  },
  {
   "cell_type": "code",
   "execution_count": 19,
   "metadata": {},
   "outputs": [],
   "source": [
    "from sklearn import model_selection\n",
    "\n",
    "x_train, x_test, y_train, y_test = model_selection.train_test_split(boston_X, boston_Y, test_size=0.3, random_state=0)"
   ]
  },
  {
   "cell_type": "code",
   "execution_count": 20,
   "metadata": {},
   "outputs": [
    {
     "name": "stdout",
     "output_type": "stream",
     "text": [
      "(354, 2)\n",
      "(152, 2)\n",
      "(354,)\n",
      "(152,)\n"
     ]
    }
   ],
   "source": [
    "print(x_train.shape)\n",
    "print(x_test.shape)\n",
    "print(y_train.shape)\n",
    "print(y_test.shape)"
   ]
  },
  {
   "cell_type": "markdown",
   "metadata": {},
   "source": [
    "<br>\n",
    "<br>\n",
    "\n",
    "#### 4. 비어있는 모델 객체 만들기"
   ]
  },
  {
   "cell_type": "code",
   "execution_count": 21,
   "metadata": {},
   "outputs": [],
   "source": [
    "model = linear_model.LogisticRegression() # 로지스틱회귀"
   ]
  },
  {
   "cell_type": "markdown",
   "metadata": {},
   "source": [
    "<br>\n",
    "<br>\n",
    "\n",
    "#### 5. 모델 객체 학습시키기 (on training data)"
   ]
  },
  {
   "cell_type": "code",
   "execution_count": 22,
   "metadata": {},
   "outputs": [
    {
     "name": "stderr",
     "output_type": "stream",
     "text": [
      "C:\\Users\\student\\Anaconda3\\lib\\site-packages\\sklearn\\linear_model\\logistic.py:433: FutureWarning: Default solver will be changed to 'lbfgs' in 0.22. Specify a solver to silence this warning.\n",
      "  FutureWarning)\n"
     ]
    },
    {
     "data": {
      "text/plain": [
       "LogisticRegression(C=1.0, class_weight=None, dual=False, fit_intercept=True,\n",
       "          intercept_scaling=1, max_iter=100, multi_class='warn',\n",
       "          n_jobs=None, penalty='l2', random_state=None, solver='warn',\n",
       "          tol=0.0001, verbose=0, warm_start=False)"
      ]
     },
     "execution_count": 22,
     "metadata": {},
     "output_type": "execute_result"
    }
   ],
   "source": [
    "# Train the model using the training sets\n",
    "\n",
    "model.fit(x_train, y_train)"
   ]
  },
  {
   "cell_type": "markdown",
   "metadata": {},
   "source": [
    "<br>\n",
    "<br>\n",
    "\n",
    "#### 6. 학습이 끝난 모델 테스트하기 (on test data)"
   ]
  },
  {
   "cell_type": "code",
   "execution_count": 26,
   "metadata": {},
   "outputs": [
    {
     "data": {
      "text/plain": [
       "array([[2.58038914e-01, 7.41961086e-01],\n",
       "       [5.01421721e-01, 4.98578279e-01],\n",
       "       [5.78841038e-01, 4.21158962e-01],\n",
       "       [9.94583405e-01, 5.41659536e-03],\n",
       "       [7.75997361e-01, 2.24002639e-01],\n",
       "       [4.56012227e-01, 5.43987773e-01],\n",
       "       [7.49198188e-01, 2.50801812e-01],\n",
       "       [5.21650887e-01, 4.78349113e-01],\n",
       "       [9.11201888e-01, 8.87981124e-02],\n",
       "       [5.87001833e-01, 4.12998167e-01],\n",
       "       [9.94121874e-01, 5.87812643e-03],\n",
       "       [9.92367407e-01, 7.63259268e-03],\n",
       "       [9.72940486e-01, 2.70595144e-02],\n",
       "       [9.99926819e-01, 7.31810838e-05],\n",
       "       [1.01852558e-02, 9.89814744e-01],\n",
       "       [6.02313004e-02, 9.39768700e-01],\n",
       "       [6.28036363e-01, 3.71963637e-01],\n",
       "       [3.81656608e-02, 9.61834339e-01],\n",
       "       [1.08061863e-01, 8.91938137e-01],\n",
       "       [4.86209172e-01, 5.13790828e-01],\n",
       "       [2.33478201e-01, 7.66521799e-01],\n",
       "       [7.97547797e-01, 2.02452203e-01],\n",
       "       [8.90876581e-01, 1.09123419e-01],\n",
       "       [2.25204698e-01, 7.74795302e-01],\n",
       "       [6.70830591e-01, 3.29169409e-01],\n",
       "       [9.69965339e-01, 3.00346607e-02],\n",
       "       [8.91556518e-01, 1.08443482e-01],\n",
       "       [9.59749807e-01, 4.02501927e-02],\n",
       "       [2.27362403e-02, 9.77263760e-01],\n",
       "       [9.69515076e-01, 3.04849239e-02],\n",
       "       [9.78267704e-01, 2.17322961e-02],\n",
       "       [9.17256840e-01, 8.27431601e-02],\n",
       "       [5.67996371e-01, 4.32003629e-01],\n",
       "       [7.97834417e-01, 2.02165583e-01],\n",
       "       [4.10132751e-01, 5.89867249e-01],\n",
       "       [9.30170846e-01, 6.98291540e-02],\n",
       "       [9.99606998e-01, 3.93001798e-04],\n",
       "       [4.93699623e-01, 5.06300377e-01],\n",
       "       [9.70979987e-01, 2.90200130e-02],\n",
       "       [9.98531743e-01, 1.46825746e-03],\n",
       "       [4.13575412e-01, 5.86424588e-01],\n",
       "       [9.15629776e-01, 8.43702244e-02],\n",
       "       [4.66202602e-01, 5.33797398e-01],\n",
       "       [9.88218626e-01, 1.17813741e-02],\n",
       "       [3.47380721e-01, 6.52619279e-01],\n",
       "       [4.20004609e-01, 5.79995391e-01],\n",
       "       [9.58213409e-01, 4.17865911e-02],\n",
       "       [9.27975482e-01, 7.20245180e-02],\n",
       "       [9.99943515e-01, 5.64845014e-05],\n",
       "       [3.94166779e-01, 6.05833221e-01],\n",
       "       [9.23730799e-01, 7.62692009e-02],\n",
       "       [9.82111096e-01, 1.78889044e-02],\n",
       "       [7.55049757e-01, 2.44950243e-01],\n",
       "       [1.47400793e-02, 9.85259921e-01],\n",
       "       [9.78348847e-01, 2.16511526e-02],\n",
       "       [9.52565626e-01, 4.74343739e-02],\n",
       "       [8.42966613e-01, 1.57033387e-01],\n",
       "       [8.37788990e-01, 1.62211010e-01],\n",
       "       [6.48112582e-01, 3.51887418e-01],\n",
       "       [9.74405191e-01, 2.55948091e-02],\n",
       "       [3.73679200e-01, 6.26320800e-01],\n",
       "       [8.18447470e-01, 1.81552530e-01],\n",
       "       [6.60218447e-02, 9.33978155e-01],\n",
       "       [5.66245227e-02, 9.43375477e-01],\n",
       "       [9.37657761e-01, 6.23422392e-02],\n",
       "       [7.86750257e-02, 9.21324974e-01],\n",
       "       [9.65042582e-01, 3.49574184e-02],\n",
       "       [9.91313740e-01, 8.68625989e-03],\n",
       "       [9.83375539e-01, 1.66244606e-02],\n",
       "       [6.99969137e-01, 3.00030863e-01],\n",
       "       [7.39328888e-01, 2.60671112e-01],\n",
       "       [4.23236177e-01, 5.76763823e-01],\n",
       "       [9.88258755e-02, 9.01174124e-01],\n",
       "       [6.42319740e-02, 9.35768026e-01],\n",
       "       [2.32560002e-01, 7.67439998e-01],\n",
       "       [9.99981691e-01, 1.83086792e-05],\n",
       "       [1.77924125e-02, 9.82207587e-01],\n",
       "       [6.37024014e-01, 3.62975986e-01],\n",
       "       [3.85469333e-01, 6.14530667e-01],\n",
       "       [9.13419614e-01, 8.65803856e-02],\n",
       "       [2.22802736e-01, 7.77197264e-01],\n",
       "       [8.88403947e-01, 1.11596053e-01],\n",
       "       [8.34971735e-01, 1.65028265e-01],\n",
       "       [1.90592355e-02, 9.80940764e-01],\n",
       "       [1.67830084e-02, 9.83216992e-01],\n",
       "       [1.72331113e-01, 8.27668887e-01],\n",
       "       [7.00618613e-01, 2.99381387e-01],\n",
       "       [9.53922890e-01, 4.60771102e-02],\n",
       "       [2.37237711e-01, 7.62762289e-01],\n",
       "       [9.85696153e-01, 1.43038468e-02],\n",
       "       [9.30611266e-01, 6.93887337e-02],\n",
       "       [9.96981516e-01, 3.01848395e-03],\n",
       "       [2.26500625e-01, 7.73499375e-01],\n",
       "       [1.16325476e-01, 8.83674524e-01],\n",
       "       [3.57339696e-01, 6.42660304e-01],\n",
       "       [4.80747911e-01, 5.19252089e-01],\n",
       "       [9.99999331e-01, 6.68560673e-07],\n",
       "       [1.42851377e-01, 8.57148623e-01],\n",
       "       [9.73251956e-01, 2.67480440e-02],\n",
       "       [8.78039355e-01, 1.21960645e-01],\n",
       "       [4.54803228e-01, 5.45196772e-01],\n",
       "       [7.36582299e-01, 2.63417701e-01],\n",
       "       [3.84516789e-01, 6.15483211e-01],\n",
       "       [5.87631018e-01, 4.12368982e-01],\n",
       "       [5.77537232e-01, 4.22462768e-01],\n",
       "       [8.09836201e-01, 1.90163799e-01],\n",
       "       [9.99751617e-01, 2.48383238e-04],\n",
       "       [9.49808749e-01, 5.01912506e-02],\n",
       "       [4.69616997e-01, 5.30383003e-01],\n",
       "       [3.57177434e-01, 6.42822566e-01],\n",
       "       [6.06560896e-02, 9.39343910e-01],\n",
       "       [9.99649851e-01, 3.50148915e-04],\n",
       "       [9.86804630e-01, 1.31953697e-02],\n",
       "       [9.45913194e-01, 5.40868055e-02],\n",
       "       [9.99926277e-01, 7.37227890e-05],\n",
       "       [9.16882988e-01, 8.31170123e-02],\n",
       "       [9.99984932e-01, 1.50679714e-05],\n",
       "       [6.44359041e-01, 3.55640959e-01],\n",
       "       [9.99689305e-01, 3.10695379e-04],\n",
       "       [1.60320108e-02, 9.83967989e-01],\n",
       "       [7.30220754e-02, 9.26977925e-01],\n",
       "       [9.99263159e-01, 7.36841013e-04],\n",
       "       [9.68772795e-01, 3.12272046e-02],\n",
       "       [8.40430060e-01, 1.59569940e-01],\n",
       "       [5.95285361e-01, 4.04714639e-01],\n",
       "       [9.78927799e-01, 2.10722009e-02],\n",
       "       [9.40382989e-02, 9.05961701e-01],\n",
       "       [9.88306181e-01, 1.16938187e-02],\n",
       "       [5.21628273e-01, 4.78371727e-01],\n",
       "       [8.81686665e-02, 9.11831334e-01],\n",
       "       [9.60309435e-01, 3.96905647e-02],\n",
       "       [9.98892161e-01, 1.10783935e-03],\n",
       "       [9.81613794e-01, 1.83862059e-02],\n",
       "       [9.19938065e-01, 8.00619355e-02],\n",
       "       [9.95578650e-01, 4.42135030e-03],\n",
       "       [5.34688369e-02, 9.46531163e-01],\n",
       "       [6.69086521e-01, 3.30913479e-01],\n",
       "       [9.99752879e-01, 2.47120772e-04],\n",
       "       [1.55230345e-01, 8.44769655e-01],\n",
       "       [9.99799891e-01, 2.00108816e-04],\n",
       "       [9.97923605e-01, 2.07639542e-03],\n",
       "       [8.83867872e-01, 1.16132128e-01],\n",
       "       [7.12296198e-02, 9.28770380e-01],\n",
       "       [1.08473027e-01, 8.91526973e-01],\n",
       "       [2.21028482e-01, 7.78971518e-01],\n",
       "       [9.34459953e-01, 6.55400469e-02],\n",
       "       [4.98569777e-02, 9.50143022e-01],\n",
       "       [7.13976524e-02, 9.28602348e-01],\n",
       "       [9.95284007e-01, 4.71599343e-03],\n",
       "       [9.99961855e-01, 3.81448126e-05],\n",
       "       [7.38398713e-02, 9.26160129e-01],\n",
       "       [1.11425690e-01, 8.88574310e-01]])"
      ]
     },
     "execution_count": 26,
     "metadata": {},
     "output_type": "execute_result"
    }
   ],
   "source": [
    "# 양성/음성 확률을 확인하려면?\n",
    "\n",
    "# plot roc curve for test set\n",
    "pred_test = model.predict_proba(x_test) # Predict 'probability'\n",
    "pred_test"
   ]
  },
  {
   "cell_type": "code",
   "execution_count": 24,
   "metadata": {},
   "outputs": [
    {
     "name": "stdout",
     "output_type": "stream",
     "text": [
      "Accuracy:  0.8223684210526315\n"
     ]
    }
   ],
   "source": [
    "from sklearn.metrics import accuracy_score # accuracy\n",
    "\n",
    "# 모델 분류의 정확도\n",
    "print('Accuracy: ', accuracy_score(model.predict(x_test), y_test))"
   ]
  },
  {
   "cell_type": "markdown",
   "metadata": {},
   "source": [
    "<br>\n",
    "<br>\n",
    "\n",
    "#### 7. 모델 시각화"
   ]
  },
  {
   "cell_type": "code",
   "execution_count": null,
   "metadata": {},
   "outputs": [],
   "source": [
    "# RECALL, PRECISEN? REFERENCE"
   ]
  },
  {
   "cell_type": "code",
   "execution_count": 33,
   "metadata": {},
   "outputs": [
    {
     "name": "stdout",
     "output_type": "stream",
     "text": [
      "(array([0.        , 0.01123596, 0.29213483, 0.29213483, 0.38202247,\n",
      "       0.38202247, 0.58426966, 0.58426966, 0.65168539, 0.65168539,\n",
      "       0.69662921, 0.69662921, 0.70786517, 0.70786517, 0.74157303,\n",
      "       0.74157303, 0.78651685, 0.78651685, 0.79775281, 0.79775281,\n",
      "       0.80898876, 0.80898876, 0.84269663, 0.84269663, 0.88764045,\n",
      "       0.88764045, 0.8988764 , 0.8988764 , 0.93258427, 0.93258427,\n",
      "       0.95505618, 0.95505618, 0.97752809, 0.97752809, 0.98876404,\n",
      "       0.98876404, 1.        , 1.        ]), array([0.        , 0.        , 0.        , 0.06349206, 0.06349206,\n",
      "       0.07936508, 0.07936508, 0.0952381 , 0.0952381 , 0.11111111,\n",
      "       0.11111111, 0.12698413, 0.12698413, 0.14285714, 0.14285714,\n",
      "       0.15873016, 0.15873016, 0.17460317, 0.17460317, 0.19047619,\n",
      "       0.19047619, 0.23809524, 0.23809524, 0.25396825, 0.25396825,\n",
      "       0.28571429, 0.28571429, 0.3015873 , 0.3015873 , 0.31746032,\n",
      "       0.31746032, 0.3968254 , 0.3968254 , 0.41269841, 0.41269841,\n",
      "       0.47619048, 0.47619048, 1.        ]), array([1.99999933, 0.99999933, 0.98821863, 0.9821111 , 0.97097999,\n",
      "       0.96996534, 0.91725684, 0.91688299, 0.88840395, 0.88386787,\n",
      "       0.83778899, 0.83497173, 0.81844747, 0.8098362 , 0.77599736,\n",
      "       0.75504976, 0.70061861, 0.69996914, 0.67083059, 0.66908652,\n",
      "       0.64811258, 0.62803636, 0.58700183, 0.57884104, 0.52162827,\n",
      "       0.49369962, 0.48620917, 0.48074791, 0.45601223, 0.45480323,\n",
      "       0.42000461, 0.38451679, 0.3573397 , 0.35717743, 0.34738072,\n",
      "       0.23256   , 0.22650063, 0.01018526]))\n"
     ]
    }
   ],
   "source": [
    "from sklearn.metrics import roc_curve, auc\n",
    "\n",
    "fpr, tpr, _ = roc_curve(y_true=y_test, y_score=pred_test[:,1]) # real y & predicted y (based on \"Sepal width\")\n",
    "roc_auc = auc(fpr, tpr) # AUC 면적의 값 (수치)\n",
    "print(roc_curve(y_true=y_test, y_score=pred_test[:,0]))"
   ]
  },
  {
   "cell_type": "code",
   "execution_count": 39,
   "metadata": {},
   "outputs": [
    {
     "data": {
      "image/png": "[encoded data removed]",
      "text/plain": [
       "<Figure size 720x720 with 1 Axes>"
      ]
     },
     "metadata": {
      "needs_background": "light"
     },
     "output_type": "display_data"
    }
   ],
   "source": [
    "plt.figure(figsize=(10, 10))\n",
    "\n",
    "plt.plot(fpr, tpr, color='darkorange', lw=3, label='ROC curve (area = %0.2f)' % roc_auc)\n",
    "plt.plot([0, 1], [0, 1], color='navy', lw=2, linestyle='--')\n",
    "\n",
    "plt.xlim([0.0, 1.0])\n",
    "plt.ylim([0.0, 1.05])\n",
    "plt.xlabel('False Positive Rate')\n",
    "plt.ylabel('True Positive Rate')\n",
    "plt.legend(loc=\"lower right\")\n",
    "plt.title(\"ROC curve\")\n",
    "\n",
    "plt.show()"
   ]
  },
  {
   "cell_type": "markdown",
   "metadata": {},
   "source": [
    "<br>\n",
    "<br>\n",
    "\n",
    "#### Practice. 더 좋은 성능을 보이는 Feature 를 찾아보세요!"
   ]
  },
  {
   "cell_type": "code",
   "execution_count": 40,
   "metadata": {},
   "outputs": [
    {
     "name": "stdout",
     "output_type": "stream",
     "text": [
      "Accuracy:  0.8223684210526315\n"
     ]
    },
    {
     "name": "stderr",
     "output_type": "stream",
     "text": [
      "C:\\Users\\student\\Anaconda3\\lib\\site-packages\\sklearn\\linear_model\\logistic.py:433: FutureWarning: Default solver will be changed to 'lbfgs' in 0.22. Specify a solver to silence this warning.\n",
      "  FutureWarning)\n"
     ]
    },
    {
     "data": {
      "image/png": "[encoded data removed]",
      "text/plain": [
       "<Figure size 720x720 with 1 Axes>"
      ]
     },
     "metadata": {
      "needs_background": "light"
     },
     "output_type": "display_data"
    }
   ],
   "source": [
    "import numpy as np\n",
    "import pandas as pd\n",
    "import matplotlib.pyplot as plt\n",
    "from sklearn import datasets, model_selection, linear_model\n",
    "from sklearn.metrics import mean_squared_error, accuracy_score, roc_curve, auc\n",
    "\n",
    "# 1. Prepare the data (array!)\n",
    "df_data = pd.read_excel('boston_house_data.xlsx', index_col=0, encoding='utf-8')\n",
    "df_target = pd.read_excel('boston_house_target.xlsx', encoding='utf-8')\n",
    "df_target['Label'] = df_target[0].apply(lambda x: 1 if x > df_target[0].mean() else 0 ) \n",
    "boston_data = np.array(df_data)\n",
    "boston_target = np.array(df_target['Label'])\n",
    "\n",
    "# 2. Feature selection\n",
    "boston_X = boston_data[:,(5, 12)] # 주택당 방 수 & 인구 중 하위 계층 비율 \n",
    "boston_Y = boston_target\n",
    "\n",
    "# 3. Train/Test split\n",
    "x_train, x_test, y_train, y_test = model_selection.train_test_split(boston_X, boston_Y, test_size=0.3, random_state=0)\n",
    "\n",
    "# 4. Create model object \n",
    "model = linear_model.LogisticRegression()\n",
    "\n",
    "# 5. Train the model \n",
    "model.fit(x_train, y_train)\n",
    "\n",
    "# 6. Test the model\n",
    "print('Accuracy: ', accuracy_score(model.predict(x_test), y_test))\n",
    "\n",
    "# 7. Visualize the model\n",
    "pred_test = model.predict_proba(x_test) # Predict 'probability'\n",
    "fpr, tpr, _ = roc_curve(y_true=y_test, y_score=pred_test[:,1]) # real y & predicted y (based on \"Sepal width\")\n",
    "roc_auc = auc(fpr, tpr) # AUC 면적의 값 (수치)\n",
    "\n",
    "plt.figure(figsize=(10, 10))\n",
    "plt.plot(fpr, tpr, color='darkorange', lw=2, label='ROC curve (area = %0.2f)' % roc_auc)\n",
    "plt.plot([0, 1], [0, 1], color='navy', lw=2, linestyle='--')\n",
    "plt.xlim([0.0, 1.0])\n",
    "plt.ylim([0.0, 1.05])\n",
    "plt.xlabel('False Positive Rate')\n",
    "plt.ylabel('True Positive Rate')\n",
    "plt.legend(loc=\"lower right\")\n",
    "plt.title(\"ROC curve\")\n",
    "plt.show()"
   ]
  },
  {
   "cell_type": "code",
   "execution_count": null,
   "metadata": {},
   "outputs": [],
   "source": [
    "# 513 "
   ]
  }
 ],
 "metadata": {
  "kernelspec": {
   "display_name": "Python 3",
   "language": "python",
   "name": "python3"
  },
  "language_info": {
   "codemirror_mode": {
    "name": "ipython",
    "version": 3
   },
   "file_extension": ".py",
   "mimetype": "text/x-python",
   "name": "python",
   "nbconvert_exporter": "python",
   "pygments_lexer": "ipython3",
   "version": "3.7.3"
  }
 },
 "nbformat": 4,
 "nbformat_minor": 2
}
