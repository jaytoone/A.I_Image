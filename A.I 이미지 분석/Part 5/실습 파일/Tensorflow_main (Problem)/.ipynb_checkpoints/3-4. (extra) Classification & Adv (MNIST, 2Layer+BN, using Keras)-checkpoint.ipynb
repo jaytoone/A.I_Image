{
 "cells": [
  {
   "cell_type": "code",
   "execution_count": 1,
   "metadata": {},
   "outputs": [],
   "source": [
    "import tensorflow as tf\n",
    "from tensorflow.keras import datasets, utils\n",
    "from tensorflow.keras import models, layers, activations, initializers, losses, optimizers, metrics\n",
    "\n",
    "import os\n",
    "tf.logging.set_verbosity(tf.logging.ERROR)\n",
    "os.environ['TF_CPP_MIN_LOG_LEVEL'] = '2' # https://stackoverflow.com/questions/35911252/disable-tensorflow-debugging-information"
   ]
  },
  {
   "cell_type": "markdown",
   "metadata": {},
   "source": [
    "<br> \n",
    "\n",
    "#### 1. Prepare train & test data (MNIST)"
   ]
  },
  {
   "cell_type": "markdown",
   "metadata": {},
   "source": [
    "#### Train & Test split"
   ]
  },
  {
   "cell_type": "code",
   "execution_count": 2,
   "metadata": {},
   "outputs": [
    {
     "name": "stdout",
     "output_type": "stream",
     "text": [
      "(60000, 28, 28)\n",
      "(10000, 28, 28)\n",
      "uint8\n",
      "255\n"
     ]
    }
   ],
   "source": [
    "(train_data, train_label), (test_data, test_label) = datasets.mnist.load_data()\n",
    "\n",
    "print(train_data.shape) # # of training data == 60000, each data = 28px * 28px\n",
    "print(test_data.shape) # # of test data == 10000\n",
    "print(train_data.dtype) # int\n",
    "print(train_data.max()) # 0~255"
   ]
  },
  {
   "cell_type": "markdown",
   "metadata": {},
   "source": [
    "#### Normalization"
   ]
  },
  {
   "cell_type": "code",
   "execution_count": 3,
   "metadata": {},
   "outputs": [],
   "source": [
    "train_data = train_data.reshape(60000, 784).astype('float32') / 255.0 # 0~255 -> 0~1\n",
    "test_data = test_data.reshape(10000, 784).astype('float32') / 255.0 # 0~255 -> 0~1"
   ]
  },
  {
   "cell_type": "markdown",
   "metadata": {},
   "source": [
    "#### One-hot encoding"
   ]
  },
  {
   "cell_type": "code",
   "execution_count": 4,
   "metadata": {},
   "outputs": [],
   "source": [
    "train_label = utils.to_categorical(train_label) # 0~9 -> one-hot vector\n",
    "test_label = utils.to_categorical(test_label) # 0~9 -> one-hot vector"
   ]
  },
  {
   "cell_type": "markdown",
   "metadata": {},
   "source": [
    "<br> \n",
    "\n",
    "#### 2. Build the model & Set the criterion"
   ]
  },
  {
   "cell_type": "code",
   "execution_count": 5,
   "metadata": {},
   "outputs": [],
   "source": [
    "model = models.Sequential() \n",
    "\n",
    "model.add(layers.Dense(input_dim=28*28, units=256, activation=None, kernel_initializer=initializers.he_uniform())) \n",
    "model.add(layers.BatchNormalization())\n",
    "model.add(layers.Activation('relu')) # layers.ELU or layers.LeakyReLU\n",
    "model.add(layers.Dropout(rate=0.2))\n",
    "\n",
    "model.add(layers.Dense(units=256, activation=None, kernel_initializer=initializers.he_uniform())) \n",
    "model.add(layers.BatchNormalization())\n",
    "model.add(layers.Activation('relu')) # layers.ELU or layers.LeakyReLU\n",
    "model.add(layers.Dropout(rate=0.2))\n",
    "\n",
    "model.add(layers.Dense(units=10, activation='softmax')) # 0~9 "
   ]
  },
  {
   "cell_type": "code",
   "execution_count": 6,
   "metadata": {},
   "outputs": [],
   "source": [
    "model.compile(optimizer=optimizers.Adam(), \n",
    "              loss=losses.categorical_crossentropy, \n",
    "              metrics=[metrics.categorical_accuracy]) "
   ]
  },
  {
   "cell_type": "markdown",
   "metadata": {},
   "source": [
    "<br> \n",
    "\n",
    "#### 3. Train the model"
   ]
  },
  {
   "cell_type": "code",
   "execution_count": 7,
   "metadata": {},
   "outputs": [
    {
     "name": "stdout",
     "output_type": "stream",
     "text": [
      "Train on 48000 samples, validate on 12000 samples\n",
      "Epoch 1/15\n",
      "48000/48000 [==============================] - 3s 69us/sample - loss: 0.3101 - categorical_accuracy: 0.9061 - val_loss: 0.1358 - val_categorical_accuracy: 0.9593\n",
      "Epoch 2/15\n",
      "48000/48000 [==============================] - 3s 53us/sample - loss: 0.1402 - categorical_accuracy: 0.9575 - val_loss: 0.0938 - val_categorical_accuracy: 0.9721\n",
      "Epoch 3/15\n",
      "48000/48000 [==============================] - 3s 53us/sample - loss: 0.1045 - categorical_accuracy: 0.9672 - val_loss: 0.1031 - val_categorical_accuracy: 0.9688\n",
      "Epoch 4/15\n",
      "48000/48000 [==============================] - 3s 52us/sample - loss: 0.0836 - categorical_accuracy: 0.9738 - val_loss: 0.0786 - val_categorical_accuracy: 0.9759\n",
      "Epoch 5/15\n",
      "48000/48000 [==============================] - 3s 53us/sample - loss: 0.0723 - categorical_accuracy: 0.9764 - val_loss: 0.0801 - val_categorical_accuracy: 0.9757\n",
      "Epoch 6/15\n",
      "48000/48000 [==============================] - 3s 54us/sample - loss: 0.0599 - categorical_accuracy: 0.9800 - val_loss: 0.0761 - val_categorical_accuracy: 0.9768\n",
      "Epoch 7/15\n",
      "48000/48000 [==============================] - 3s 53us/sample - loss: 0.0539 - categorical_accuracy: 0.9821 - val_loss: 0.0784 - val_categorical_accuracy: 0.9779\n",
      "Epoch 8/15\n",
      "48000/48000 [==============================] - 2s 52us/sample - loss: 0.0469 - categorical_accuracy: 0.9841 - val_loss: 0.0728 - val_categorical_accuracy: 0.9790\n",
      "Epoch 9/15\n",
      "48000/48000 [==============================] - 3s 53us/sample - loss: 0.0450 - categorical_accuracy: 0.9855 - val_loss: 0.0724 - val_categorical_accuracy: 0.9791\n",
      "Epoch 10/15\n",
      "48000/48000 [==============================] - 3s 54us/sample - loss: 0.0370 - categorical_accuracy: 0.9877 - val_loss: 0.0693 - val_categorical_accuracy: 0.9803\n",
      "Epoch 11/15\n",
      "48000/48000 [==============================] - 3s 53us/sample - loss: 0.0350 - categorical_accuracy: 0.9882 - val_loss: 0.0713 - val_categorical_accuracy: 0.9795\n",
      "Epoch 12/15\n",
      "48000/48000 [==============================] - 3s 53us/sample - loss: 0.0298 - categorical_accuracy: 0.9899 - val_loss: 0.0713 - val_categorical_accuracy: 0.9790\n",
      "Epoch 13/15\n",
      "48000/48000 [==============================] - 3s 52us/sample - loss: 0.0306 - categorical_accuracy: 0.9896 - val_loss: 0.0773 - val_categorical_accuracy: 0.9783\n",
      "Epoch 14/15\n",
      "48000/48000 [==============================] - 2s 52us/sample - loss: 0.0323 - categorical_accuracy: 0.9893 - val_loss: 0.0763 - val_categorical_accuracy: 0.9804\n",
      "Epoch 15/15\n",
      "48000/48000 [==============================] - 2s 52us/sample - loss: 0.0283 - categorical_accuracy: 0.9907 - val_loss: 0.0764 - val_categorical_accuracy: 0.9805\n"
     ]
    }
   ],
   "source": [
    "history = model.fit(train_data, train_label, batch_size=100, epochs=15, validation_split=0.2) "
   ]
  },
  {
   "cell_type": "markdown",
   "metadata": {},
   "source": [
    "<br> \n",
    "\n",
    "#### 4. Test the model"
   ]
  },
  {
   "cell_type": "code",
   "execution_count": 8,
   "metadata": {
    "scrolled": true
   },
   "outputs": [
    {
     "name": "stdout",
     "output_type": "stream",
     "text": [
      "10000/10000 [==============================] - 0s 16us/sample - loss: 0.0668 - categorical_accuracy: 0.9821\n",
      "loss (cross-entropy) : 0.06684740672469161\n",
      "test accuracy : 0.9821\n"
     ]
    }
   ],
   "source": [
    "result = model.evaluate(test_data, test_label, batch_size=100)\n",
    "\n",
    "print('loss (cross-entropy) :', result[0])\n",
    "print('test accuracy :', result[1])"
   ]
  },
  {
   "cell_type": "markdown",
   "metadata": {},
   "source": [
    "<br> \n",
    "\n",
    "#### 5. Visualize the result"
   ]
  },
  {
   "cell_type": "code",
   "execution_count": 9,
   "metadata": {},
   "outputs": [
    {
     "data": {
      "text/plain": [
       "dict_keys(['loss', 'categorical_accuracy', 'val_loss', 'val_categorical_accuracy'])"
      ]
     },
     "execution_count": 9,
     "metadata": {},
     "output_type": "execute_result"
    }
   ],
   "source": [
    "history.history.keys()"
   ]
  },
  {
   "cell_type": "code",
   "execution_count": 13,
   "metadata": {},
   "outputs": [
    {
     "data": {
      "image/png": "[encoded data removed]",
      "text/plain": [
       "<Figure size 432x288 with 1 Axes>"
      ]
     },
     "metadata": {
      "needs_background": "light"
     },
     "output_type": "display_data"
    }
   ],
   "source": [
    "val_acc = history.history['val_categorical_accuracy']\n",
    "acc = history.history['categorical_accuracy']\n",
    "\n",
    "import numpy as np\n",
    "import matplotlib.pyplot as plt\n",
    "\n",
    "x_len = np.arange(len(acc))\n",
    "plt.plot(x_len, acc, marker='.', c='blue', label=\"Train-set Acc.\")\n",
    "plt.plot(x_len, val_acc, marker='.', c='red', label=\"Validation-set Acc.\")\n",
    "\n",
    "plt.legend(loc='lower right')\n",
    "plt.grid()\n",
    "plt.xlabel('epoch')\n",
    "plt.ylabel('Accuracy')\n",
    "plt.show()"
   ]
  },
  {
   "cell_type": "code",
   "execution_count": null,
   "metadata": {},
   "outputs": [],
   "source": []
  }
 ],
 "metadata": {
  "kernel_info": {
   "name": "python3"
  },
  "kernelspec": {
   "display_name": "Python 3",
   "language": "python",
   "name": "python3"
  },
  "language_info": {
   "codemirror_mode": {
    "name": "ipython",
    "version": 3
   },
   "file_extension": ".py",
   "mimetype": "text/x-python",
   "name": "python",
   "nbconvert_exporter": "python",
   "pygments_lexer": "ipython3",
   "version": "3.7.3"
  },
  "nteract": {
   "version": "0.14.3"
  }
 },
 "nbformat": 4,
 "nbformat_minor": 2
}
