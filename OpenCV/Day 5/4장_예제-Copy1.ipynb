{
 "cells": [
  {
   "cell_type": "markdown",
   "metadata": {},
   "source": [
    "### 3_3 Hough 변환을 사용해 직선과 원 검출(P149)"
   ]
  },
  {
   "cell_type": "markdown",
   "metadata": {},
   "source": [
    "*  lines = cv2HoughLineP(img, rho, theta, threshold[, lines, minLineLength, maxLineGap])\n",
    ": 검출한 선의 결과 값이 선의 시작과 끝 좌표이다.\n",
    "    * img : 입력영상, 이미지\n",
    "    * rho : 거리측정 해상도, 0~1\n",
    "    * theta : 각도 측정 해상도, 라디안 단위( np.pi/0~180)\n",
    "    * threshold : 직선으로 판단할 최소한의 동일 개수 \n",
    "        * 작은 값 : 정확도 감소, 검출 개수 증가\n",
    "        * 큰 값 : 정확도 증가, 검출 개수 감소 \n",
    "    * lines : 거물된 선 좌표, N X 1 X 4 배열 ( x1, y1, x2, y2 ) \n",
    "    * minLineLength : 선으로 인정할 최소 길이 \n",
    "    * maxLineGap : 선으로 판단한 최대 간격 \n",
    "    * min_theta, max_theta : 검출을 위해 사용할 최대, 최소 각도\n",
    "   "
   ]
  },
  {
   "cell_type": "markdown",
   "metadata": {},
   "source": [
    "* circles = cv2.Houghcircles(img, method, dp, minDist[, circles, param1, param2, minRadius, maxRadius])\n",
    "    * img : 입력 영상, 이미지\n",
    "    * method : 검출 방식 선택, \n",
    "        * cv2.HOUGH_GRADIENT 만 가능 \n",
    "    * dp : 입력 영상, 이미지와 경사 누적의 해상도 반비례율, 1: 입력과 동일, 값이 커질수록 부정확\n",
    "    * minDist : 원들 중심간의 최소 거리, 0: 에러 (동심원 검출 불가)\n",
    "    * circles : 검출 원 결과, N X 1 X 3 부동 소수점 배열 (x, y, 반지름)\n",
    "    * param1 : 캐니 엣지에 전달할 스레시홀드 최대 값(최소 값은 최대 값의 2배 작은 값을 전달)\n",
    "    * param2 : 경사도 누적 경계 값(값이 작을수록 잘못된 원 검출)\n",
    "    * minRadius, maxRadius : 원의 최소 반지름, 최대 반지름 (0이면 영상의 크기)"
   ]
  },
  {
   "cell_type": "code",
   "execution_count": 13,
   "metadata": {},
   "outputs": [
    {
     "name": "stdout",
     "output_type": "stream",
     "text": [
      "Detected Line : (99,401 372,353)\n",
      "[[200.5 200.5  52.3]]\n",
      "Detected Circle : center = (200.5,200.5), radius = 52.29999923706055\n"
     ]
    },
    {
     "data": {
      "image/png": "[encoded data removed]",
      "text/plain": [
       "<Figure size 576x720 with 2 Axes>"
      ]
     },
     "metadata": {
      "needs_background": "light"
     },
     "output_type": "display_data"
    }
   ],
   "source": [
    "import cv2 \n",
    "import numpy as np \n",
    "import matplotlib.pyplot as plt \n",
    "\n",
    "#이미지 그리기\n",
    "img = np.zeros((500,500), np.uint8)\n",
    "cv2.circle(img, (200, 200), 50, 255, 3)\n",
    "cv2.line(img, (100, 400), (400, 350), 255, 3)\n",
    "\n",
    "#선, 원검출\n",
    "lines = cv2.HoughLinesP(img, 1, np.pi/180, 100, 100, 10)[0]\n",
    "circles = cv2.HoughCircles(img, cv2.HOUGH_GRADIENT, 1, 15, param1=200, \\\n",
    "                          param2=30)[0]\n",
    "\n",
    "dbg_img = np.zeros((img.shape[0], img.shape[1], 3), np.uint8)\n",
    "for x1, y1, x2, y2 in lines:\n",
    "    print(\"Detected Line : ({},{} {},{})\".format(x1, y1, x2, y2))\n",
    "    cv2.line(dbg_img, (x1, y1), (x2, y2), (0, 255, 0), 2)\n",
    "    \n",
    "print(circles)\n",
    "\n",
    "\n",
    "#검출된 직선과 원을 그린다.\n",
    "detect_circle = np.zeros((img.shape[0], img.shape[1], 3), np.uint8)\n",
    "for points in circles:\n",
    "    print('Detected Circle : center = ({},{}), radius = {}'.\\\n",
    "          format(points[0],points[1],points[2]))\n",
    "    cv2.circle(detect_circle, (points[0], points[1]), points[2], (0,255,0), 2)\n",
    "\n",
    "\n",
    "\n",
    "\n",
    "\n",
    "\n",
    "\n",
    "#시각화한다. \n",
    "plt.figure(figsize=(8,10))\n",
    "plt.subplot(121)\n",
    "plt.title('original')\n",
    "plt.axis('off')\n",
    "plt.imshow(img, cmap='gray')\n",
    "plt.subplot(122)\n",
    "plt.title('detected primitives')\n",
    "plt.axis('off')\n",
    "plt.imshow(detect_circle)\n",
    "plt.show()"
   ]
  },
  {
   "cell_type": "markdown",
   "metadata": {},
   "source": [
    "### 3_3_2 스토쿠이미지 선 검출 "
   ]
  },
  {
   "cell_type": "code",
   "execution_count": 15,
   "metadata": {},
   "outputs": [],
   "source": [
    "import cv2\n",
    "import numpy as np\n",
    "\n",
    "img = cv2.imread('../img/sudoku.jpg')\n",
    "img2 = img.copy()\n",
    "# 그레이 스케일로 변환 및 엣지 검출 ---①\n",
    "\n",
    "gray = cv2.cvtColor(img, cv2.COLOR_BGR2GRAY)\n",
    "canny = cv2.Canny(gray, 50, 200)\n",
    "\n",
    "# 확율 허프 변환 적용 ---②\n",
    "lines= cv2.HoughLinesP(canny, 1, np.pi/180, 10, None, 20, 2)\n",
    "for line in lines:\n",
    "    x1, y1, x2, y2 = line[0]\n",
    "    cv2.line(img2, (x1, y1), (x2, y2), (0,255,0), 1)\n",
    "\n",
    "\n",
    "    # 검출된 선 그리기 ---③\n",
    "\n",
    "    \n",
    "\n",
    "merged = np.hstack((img, img2))\n",
    "cv2.imshow('Probability hough line', merged)\n",
    "cv2.waitKey()\n",
    "cv2.destroyAllWindows()"
   ]
  },
  {
   "cell_type": "markdown",
   "metadata": {},
   "source": [
    "### 3_5 메디안 플로우 객체 추적기(P156)"
   ]
  },
  {
   "cell_type": "markdown",
   "metadata": {},
   "source": [
    "#### 추적할 객체를 선택"
   ]
  },
  {
   "cell_type": "markdown",
   "metadata": {},
   "source": [
    "* ret = cv2.selectROI([win_name,] img[, showCrossHair=True, fromCenter=False])\n",
    "    * win_name : ROI 선택을 진행할 창의 이름, str\n",
    "    * img : ROI 선택을 진행할 이미지, Numpy ndarray\n",
    "    * showCrossHair : 선택 영역 중심에 십자 모양 표시 여부 \n",
    "    * fromCenter : 마우스 시작 지점을 영역의 중심으로 지정 \n",
    "    * ret : 선택한 영역 좌표와 크기(x, y, w, h)"
   ]
  },
  {
   "cell_type": "code",
   "execution_count": 30,
   "metadata": {},
   "outputs": [],
   "source": [
    "import cv2\n",
    "import numpy as np\n",
    "\n",
    "cap = cv2.VideoCapture('traffic.mp4')\n",
    "\n",
    "_, frame = cap.read()\n",
    "\n",
    "\n",
    "bbox = cv2.selectROI(frame, False, False)\n",
    "cv2.waitKey(1)\n",
    "cv2.destroyAllWindows()\n",
    "\n",
    "#비디오 한프레임씩 읽기\n",
    "tracker = cv2.TrackerMedianFlow_create()\n",
    "\n",
    "status_tracker = tracker.init(frame, bbox)\n",
    "fps = 0\n",
    "\n",
    "while True:\n",
    "    status_cap, frame = cap.read()\n",
    "    if not status_cap:\n",
    "        break\n",
    "        \n",
    "    if status_tracker:\n",
    "        timer = cv2.getTickCount()\n",
    "        status_tracker, bbox = tracker.update(frame)\n",
    "        \n",
    "    if status_tracker:\n",
    "        x, y, w, h = [int(i) for i in bbox]\n",
    "        cv2.rectangle(frame, (x,y), (x+w, y+h), (0,225,0), 15)\n",
    "        fps = cv2.getTickFrequency() / (cv2.getTickCount() - timer)\n",
    "        cv2.putText(frame, 'FPS: %.0f' % fps, (0,80), \\\n",
    "                    cv2.FONT_HERSHEY_SIMPLEX, 3.5, (0, 0, 0), 8)\n",
    "        \n",
    "    else:\n",
    "        cv2.putText(frame, \"Tracking failure detected\", (0, 80), cv2.FONT_HERSHEY_SIMPLEX, 3.5, (0,0,255), 8)\n",
    "        \n",
    "    cv2.imshow(\"MedianFlow tracker\", frame)\n",
    "\n",
    "    k = cv2.waitKey(1)\n",
    "    \n",
    "    if k == 27: \n",
    "        break\n",
    "    \n",
    "cv2.destroyAllWindows()\n"
   ]
  },
  {
   "cell_type": "markdown",
   "metadata": {},
   "source": [
    "#### 선택한 객체 추적"
   ]
  },
  {
   "cell_type": "markdown",
   "metadata": {},
   "source": [
    "cv2.Tracker는 init() 함수로 트랙커에 초기 추적 대상 객체의 위치를 알려주고 \n",
    "update() 함수에 다음 프레임을 전달하면 객체가 이동한 위치를 반환합니다. \n",
    "* tracker = cv2.TrackerMedianFlow_create() : 객체의 전방향/역방향을 추적해서 불일치성 측정"
   ]
  },
  {
   "cell_type": "code",
   "execution_count": 5,
   "metadata": {},
   "outputs": [
    {
     "ename": "IndentationError",
     "evalue": "unindent does not match any outer indentation level (<tokenize>, line 17)",
     "output_type": "error",
     "traceback": [
      "\u001b[1;36m  File \u001b[1;32m\"<tokenize>\"\u001b[1;36m, line \u001b[1;32m17\u001b[0m\n\u001b[1;33m    else:\u001b[0m\n\u001b[1;37m    ^\u001b[0m\n\u001b[1;31mIndentationError\u001b[0m\u001b[1;31m:\u001b[0m unindent does not match any outer indentation level\n"
     ]
    }
   ],
   "source": [
    "# 메디안 플로우 추적기 생성\n",
    "\n",
    "#추적기 초기화\n",
    "\n",
    "\n",
    "\n",
    "\n",
    "\n",
    "\n",
    "\n",
    "\n",
    "        \n",
    "\n",
    "    \n",
    "    \n",
    "        cv2.putText(frame, \"FPS: %.0f\" % fps, (0, 80), cv2.FONT_HERSHEY_SIMPLEX, 3.5, (0, 0, 0), 8);\n",
    "    else:\n",
    "        cv2.putText(frame, \"Tracking failure detected\", (0, 80), cv2.FONT_HERSHEY_SIMPLEX, 3.5, (0,0,255), 8)\n",
    "        \n",
    "    cv2.imshow(\"MedianFlow tracker\", frame)\n",
    "\n",
    "    k = cv2.waitKey(1)\n",
    "    \n",
    "    if k == 27: \n",
    "        break\n",
    "    \n",
    "cv2.destroyAllWindows()"
   ]
  },
  {
   "cell_type": "markdown",
   "metadata": {},
   "source": [
    "### 3_6 추적 API의 다양한 알고리즘을 사용해 객체 추적(P159)"
   ]
  },
  {
   "cell_type": "markdown",
   "metadata": {},
   "source": [
    "* KCF : Kernelized Correlation Filters \n",
    "* MIL : Multiple Instance Learning\n",
    "* TLD : Tracking, Learning and Detection"
   ]
  },
  {
   "cell_type": "code",
   "execution_count": 32,
   "metadata": {},
   "outputs": [
    {
     "name": "stdout",
     "output_type": "stream",
     "text": [
      "Using matplotlib backend: Qt5Agg\n"
     ]
    },
    {
     "ename": "TypeError",
     "evalue": "'tuple' object is not callable",
     "output_type": "error",
     "traceback": [
      "\u001b[1;31m---------------------------------------------------------------------------\u001b[0m",
      "\u001b[1;31mTypeError\u001b[0m                                 Traceback (most recent call last)",
      "\u001b[1;32m<ipython-input-32-6099b087dd70>\u001b[0m in \u001b[0;36m<module>\u001b[1;34m\u001b[0m\n\u001b[0;32m      8\u001b[0m \u001b[1;33m\u001b[0m\u001b[0m\n\u001b[0;32m      9\u001b[0m for name, tracker in (('KCF', cv2.TrackerKCF_create), ('MIL', cv2.TrackerMIL_create)\\\n\u001b[1;32m---> 10\u001b[1;33m ('TLD', cv2.TrackerTLD_create)):\n\u001b[0m\u001b[0;32m     11\u001b[0m     \u001b[0mtracker\u001b[0m \u001b[1;33m=\u001b[0m \u001b[0mtracker\u001b[0m\u001b[1;33m(\u001b[0m\u001b[1;33m)\u001b[0m\u001b[1;33m\u001b[0m\u001b[1;33m\u001b[0m\u001b[0m\n\u001b[0;32m     12\u001b[0m     \u001b[0minitialized\u001b[0m \u001b[1;33m=\u001b[0m \u001b[1;32mFalse\u001b[0m\u001b[1;33m\u001b[0m\u001b[1;33m\u001b[0m\u001b[0m\n",
      "\u001b[1;31mTypeError\u001b[0m: 'tuple' object is not callable"
     ]
    }
   ],
   "source": [
    "import cv2\n",
    "import time\n",
    "import numpy as np\n",
    "import matplotlib.pyplot as plt\n",
    "%matplotlib auto\n",
    "\n",
    "cv2.namedWindow('frame')\n",
    "\n",
    "for name, tracker in (('KCF', cv2.TrackerKCF_create), ('MIL', cv2.TrackerMIL_create)\\\n",
    "('TLD', cv2.TrackerTLD_create)):\n",
    "    tracker = tracker()\n",
    "    initialized = False\n",
    "    \n",
    "    video = cv2.VideoCapture('traffic.mp4')\n",
    "    bbox = (878, 266, 1153-878, 475-266)\n",
    "\n",
    "    i = 0\n",
    "    while True:\n",
    "        i += 1\n",
    "        t0 = time.time()\n",
    "        ok, frame = video.read()\n",
    "        if not ok: \n",
    "            break\n",
    "\n",
    "        if initialized:\n",
    "            tracked, bbox = tracker.update(frame)\n",
    "        else:\n",
    "            cv2.imwrite('frame.png', frame)\n",
    "            tracked = tracker.init(frame, bbox)\n",
    "            initialized = True\n",
    "\n",
    "        fps = 1 / (time.time() - t0)\n",
    "        cv2.putText(frame, 'tracker: {}, fps: {:.1f}'.format(name, fps),\n",
    "                    (20, 70), cv2.FONT_HERSHEY_SIMPLEX,  3, (255, 0, 0), 4)            \n",
    "        if tracked:\n",
    "            bbox = tuple(map(int, bbox))\n",
    "            cv2.rectangle(frame, (bbox[0], bbox[1]), \n",
    "                          (bbox[0]+bbox[2], bbox[1]+bbox[3]), \n",
    "                          (0, 255, 0), 3)\n",
    "        cv2.imshow('frame', frame)\n",
    "        if i == 50:\n",
    "            cv2.imwrite('frame{}.png'.format(name), frame)\n",
    "        if cv2.waitKey(3) == 27:\n",
    "            break\n",
    "\n",
    "cv2.destroyAllWindows()"
   ]
  },
  {
   "cell_type": "markdown",
   "metadata": {},
   "source": [
    "### P167 체스판과 원 그리드 패턴 검출"
   ]
  },
  {
   "cell_type": "markdown",
   "metadata": {},
   "source": [
    " * found, corners = cv2.findChessboardCorners(img, (rows, columns))\n",
    "    - found : 검출 여부 \n",
    "    - corners : 검출 좌표"
   ]
  },
  {
   "cell_type": "code",
   "execution_count": 18,
   "metadata": {},
   "outputs": [],
   "source": [
    "import cv2\n",
    "import matplotlib.pyplot as plt"
   ]
  },
  {
   "cell_type": "code",
   "execution_count": 19,
   "metadata": {},
   "outputs": [
    {
     "name": "stdout",
     "output_type": "stream",
     "text": [
      "Using matplotlib backend: Qt5Agg\n"
     ]
    }
   ],
   "source": [
    "%matplotlib auto"
   ]
  },
  {
   "cell_type": "code",
   "execution_count": 42,
   "metadata": {},
   "outputs": [
    {
     "data": {
      "text/plain": [
       "array([[[164, 164, 164],\n",
       "        [167, 167, 167],\n",
       "        [169, 169, 169],\n",
       "        ...,\n",
       "        [217, 217, 217],\n",
       "        [219, 219, 219],\n",
       "        [209, 209, 209]],\n",
       "\n",
       "       [[166, 166, 166],\n",
       "        [166, 166, 166],\n",
       "        [167, 167, 167],\n",
       "        ...,\n",
       "        [218, 218, 218],\n",
       "        [219, 219, 219],\n",
       "        [218, 218, 218]],\n",
       "\n",
       "       [[166, 166, 166],\n",
       "        [148, 148, 148],\n",
       "        [166, 166, 166],\n",
       "        ...,\n",
       "        [218, 218, 218],\n",
       "        [217, 217, 217],\n",
       "        [217, 217, 217]],\n",
       "\n",
       "       ...,\n",
       "\n",
       "       [[148, 148, 148],\n",
       "        [149, 149, 149],\n",
       "        [150, 150, 150],\n",
       "        ...,\n",
       "        [129, 129, 129],\n",
       "        [132, 132, 132],\n",
       "        [150, 150, 150]],\n",
       "\n",
       "       [[151, 151, 151],\n",
       "        [151, 151, 151],\n",
       "        [153, 153, 153],\n",
       "        ...,\n",
       "        [129, 129, 129],\n",
       "        [130, 130, 130],\n",
       "        [149, 149, 149]],\n",
       "\n",
       "       [[149, 149, 149],\n",
       "        [153, 153, 153],\n",
       "        [154, 154, 154],\n",
       "        ...,\n",
       "        [128, 128, 128],\n",
       "        [134, 134, 134],\n",
       "        [148, 148, 148]]], dtype=uint8)"
      ]
     },
     "execution_count": 42,
     "metadata": {},
     "output_type": "execute_result"
    }
   ],
   "source": [
    "img_chess = cv2.imread('chessboard.png')\n",
    "\n",
    "found, corners = cv2.findChessboardCorners(image_chess, (6, 9))\n",
    "\n",
    "assert found == True, 'cannot find chess boarder'\n",
    "\n",
    "dbg_img_chess = img_chess.copy()\n",
    "cv2.drawChessboardCorners(dbg_img_chess, (6, 9), corners, found)\n",
    "\n",
    "\n"
   ]
  },
  {
   "cell_type": "code",
   "execution_count": 43,
   "metadata": {},
   "outputs": [],
   "source": [
    "plt.figure(figsize=(8,4))\n",
    "plt.subplot(121)\n",
    "plt.title('original')\n",
    "plt.axis('off')\n",
    "plt.imshow(img_chess)\n",
    "plt.subplot(122)\n",
    "plt.title('detected pattern')\n",
    "plt.axis('off')\n",
    "plt.imshow(dbg_img_chess)\n",
    "plt.show()"
   ]
  },
  {
   "cell_type": "markdown",
   "metadata": {},
   "source": [
    "* retval, centers = findCirclesGrid(image, patternSize, flags)\n",
    "    - flags : \n",
    "        - CALIB_CB_SYMMETRIC_GRID* : 대칭 원 패턴에서 사용\n",
    "        - CALIB_CB_ASYMMETRIC_GRID** 비대칭 원 패턴에서 사용\n",
    "        - CALIB_CB_CLUSTERING : 알고리즘을 사용하여 강하나, 배경의 노이즈 영향이 크다."
   ]
  },
  {
   "cell_type": "code",
   "execution_count": 44,
   "metadata": {},
   "outputs": [
    {
     "data": {
      "text/plain": [
       "array([[[124, 124, 124],\n",
       "        [144, 144, 144],\n",
       "        [150, 150, 150],\n",
       "        ...,\n",
       "        [125, 125, 125],\n",
       "        [141, 141, 141],\n",
       "        [163, 163, 163]],\n",
       "\n",
       "       [[124, 124, 124],\n",
       "        [146, 146, 146],\n",
       "        [150, 150, 150],\n",
       "        ...,\n",
       "        [161, 161, 161],\n",
       "        [159, 159, 159],\n",
       "        [163, 163, 163]],\n",
       "\n",
       "       [[121, 121, 121],\n",
       "        [148, 148, 148],\n",
       "        [151, 151, 151],\n",
       "        ...,\n",
       "        [172, 172, 172],\n",
       "        [151, 151, 151],\n",
       "        [173, 173, 173]],\n",
       "\n",
       "       ...,\n",
       "\n",
       "       [[127, 127, 127],\n",
       "        [125, 125, 125],\n",
       "        [124, 124, 124],\n",
       "        ...,\n",
       "        [167, 167, 167],\n",
       "        [169, 169, 169],\n",
       "        [167, 167, 167]],\n",
       "\n",
       "       [[126, 126, 126],\n",
       "        [125, 125, 125],\n",
       "        [126, 126, 126],\n",
       "        ...,\n",
       "        [167, 167, 167],\n",
       "        [166, 166, 166],\n",
       "        [170, 170, 170]],\n",
       "\n",
       "       [[125, 125, 125],\n",
       "        [125, 125, 125],\n",
       "        [126, 126, 126],\n",
       "        ...,\n",
       "        [167, 167, 167],\n",
       "        [166, 166, 166],\n",
       "        [167, 167, 167]]], dtype=uint8)"
      ]
     },
     "execution_count": 44,
     "metadata": {},
     "output_type": "execute_result"
    }
   ],
   "source": [
    "image_circles = cv2.imread('circlesgrid.png')\n",
    "\n",
    "found, corners = cv2.findCirclesGrid(image_circles, (6,6), cv2.CALIB_CB_SYMMETRIC_GRID)\n",
    "\n",
    "assert found == True, 'x'\n",
    "\n",
    "dbg_image_circles = image_circles.copy()\n",
    "cv2.drawChessboardCorners(dbg_image_circles, (6,6), corners, found)\n",
    "\n",
    "\n",
    "\n"
   ]
  },
  {
   "cell_type": "code",
   "execution_count": 46,
   "metadata": {},
   "outputs": [],
   "source": [
    "plt.figure(figsize=(8,8))\n",
    "plt.subplot(221)\n",
    "plt.title('original')\n",
    "plt.axis('off')\n",
    "plt.imshow(img_chess)\n",
    "plt.subplot(222)\n",
    "plt.title('detected pattern')\n",
    "plt.axis('off')\n",
    "plt.imshow(dbg_img_chess)\n",
    "plt.show()\n",
    "plt.subplot(223)\n",
    "plt.title('original')\n",
    "plt.axis('off')\n",
    "plt.imshow(image_circles)\n",
    "plt.subplot(224)\n",
    "plt.title('detected pattern')\n",
    "plt.axis('off')\n",
    "plt.imshow(dbg_image_circles)\n",
    "plt.tight_layout()\n",
    "plt.show()"
   ]
  },
  {
   "cell_type": "code",
   "execution_count": null,
   "metadata": {},
   "outputs": [],
   "source": []
  },
  {
   "cell_type": "code",
   "execution_count": null,
   "metadata": {},
   "outputs": [],
   "source": []
  },
  {
   "cell_type": "markdown",
   "metadata": {},
   "source": [
    "(1) HOGDescriptor(win_size, block_size, block_stride, cell_size, nbins, win_sigma, threshold_L2hys, gamma_correction, nlevels)\n",
    "- win_size : 탐지 윈도우 사이즈\n",
    "- block_size : 픽셀에서의 블록 사이즈 , 현재 (16,16) 만 지원됨\n",
    "- block_stride : 블록의 보폭, 셀 크기의 배수여야 함  \n",
    "- cell_size : 셀 사이즈, 현재 (8, 8)만 지원됨\n",
    "- nbins : bin의 갯수, 현재 9 bin 만 지원됨 \n",
    "- win_sigma : 가우시안 스무딩 윈도우 파라미터, DEFAULT_WIN_SIGMA\n",
    "- threshold_L2hys :  L2-Hys normalization method shrinkage. \n",
    "- gamma_correction : 감마 보정 전처리가 필요한지, True, false\n",
    "- nlevels : 탐지 창이 최대로 증가함 \n",
    "\n",
    "\n",
    "(2) setSVMDetector(detector)\n",
    "- detector : 선형 SVM 분류기 \n",
    "\n",
    "(3) detectMultiScale(img, found_locations, hit_threshold, win_stride, padding, scale0, group_threshold) \n",
    "\n",
    "- img : 원본 이미지, CV_8UC1 and CV_8UC4 타입 만 지원\n",
    "- found_locations : 탐지된 객체 경계\n",
    "- hit_threshold : feature와 SVM 평면 간 사이에 대한 임계값, 보통 0, 자유계수, 생략됨 \n",
    "- win_stride : 윈도우의 폭, 블록 폭의 배수여야 함, 이를 작게 할 수록 탐지 시간이 늘어나며, 반대로 크게 하면 탐색 윈도우 숫자는 더 작아지고, 이는 탐지속도를 빠르게 해주지만 탐지를 못할 확률이 높아짐 \n",
    "- padding : CPU 인터페이스 호환성을 유지하기 위한 파라미터, (0, 0)이어야 함\n",
    "- scale0 : 작게 할수록 이미지 레이어의 계수를 증가시키고 계산 시간 증가(피라미드 형식)\n",
    "- group_threshold : 비슷한 임계 값을 조절하는 계수, 감지 되면 일부 객체는 많은 사각형으로 덮일 수 있음, 0은 그룹화를 수행하지 않음\n",
    "\n",
    "(4) getDefaultPeopleDetector()\n",
    "- 함수는 64×128 크기의 윈도우에서 똑바로 서 있는 사람을 검출하는 용도로 훈련된 분류기 계수를 반환\n",
    "- HOGDescriptor 클래스를 이용하여 원하는 객체를 검출하려면 먼저 검출할 객체에 대해 훈련된 SVM 분류기 계수를 HOGDescriptor::setSVMDetector() 함수에 등록해야 합니다. \n"
   ]
  },
  {
   "cell_type": "markdown",
   "metadata": {},
   "source": [
    "### SVM 모델을 사용한 단순 보행자 검출기(P171)\n",
    "#### 사람의 특징을 가진 객체와 아닌 객체를 구분한다."
   ]
  },
  {
   "cell_type": "code",
   "execution_count": 11,
   "metadata": {},
   "outputs": [
    {
     "name": "stdout",
     "output_type": "stream",
     "text": [
      "Using matplotlib backend: Qt5Agg\n"
     ]
    }
   ],
   "source": [
    "import cv2\n",
    "import matplotlib.pyplot as plt\n",
    "\n",
    "%matplotlib auto\n",
    "\n",
    "image = cv2.imread('people.jpg')\n",
    "\n",
    "#검출기와 분류기 정의\n",
    "\n",
    "\n",
    "\n",
    "\n",
    "\n",
    "plt.figure(figsize=(12,6))\n",
    "plt.subplot(121)\n",
    "plt.title('original')\n",
    "plt.axis('off')\n",
    "plt.imshow(image[:,:,[2,1,0]])\n",
    "plt.subplot(122)\n",
    "plt.title('detections')\n",
    "plt.axis('off')\n",
    "plt.imshow(dbg_image[:,:,[2,1,0]])\n",
    "plt.tight_layout()\n",
    "plt.show()\n",
    "                  "
   ]
  }
 ],
 "metadata": {
  "kernelspec": {
   "display_name": "Python 3",
   "language": "python",
   "name": "python3"
  },
  "language_info": {
   "codemirror_mode": {
    "name": "ipython",
    "version": 3
   },
   "file_extension": ".py",
   "mimetype": "text/x-python",
   "name": "python",
   "nbconvert_exporter": "python",
   "pygments_lexer": "ipython3",
   "version": "3.7.3"
  }
 },
 "nbformat": 4,
 "nbformat_minor": 2
}
